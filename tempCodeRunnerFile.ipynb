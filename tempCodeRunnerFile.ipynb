{
 "cells": [
  {
   "attachments": {},
   "cell_type": "markdown",
   "metadata": {},
   "source": [
    "Set `autoreload` to execute the change in `.py` files.\n"
   ]
  },
  {
   "cell_type": "code",
   "execution_count": 7,
   "metadata": {},
   "outputs": [
    {
     "name": "stdout",
     "output_type": "stream",
     "text": [
      "The autoreload extension is already loaded. To reload it, use:\n",
      "  %reload_ext autoreload\n"
     ]
    }
   ],
   "source": [
    "%load_ext autoreload\n",
    "%autoreload 2"
   ]
  },
  {
   "cell_type": "code",
   "execution_count": 8,
   "metadata": {},
   "outputs": [
    {
     "name": "stdout",
     "output_type": "stream",
     "text": [
      "dlib.DLIB_USE_CUDA: True\n",
      "dlib.cuda.get_num_devices(): 1\n"
     ]
    }
   ],
   "source": [
    "import natsort\n",
    "import glob\n",
    "import numpy as np\n",
    "import pandas as pd\n",
    "import matplotlib.pyplot as plt\n",
    "import _pickle\n",
    "import sys\n",
    "from pathlib import Path\n",
    "import numpy as np\n",
    "import threading\n",
    "from queue import Queue\n",
    "import cv2\n",
    "import dlib\n",
    "\n",
    "print(f\"dlib.DLIB_USE_CUDA: {dlib.DLIB_USE_CUDA}\")\n",
    "print(f\"dlib.cuda.get_num_devices(): {dlib.cuda.get_num_devices()}\")\n",
    "\n",
    "from __utils__ import images_processing\n",
    "from __utils__ import labels_processing\n",
    "from __utils__ import functions"
   ]
  },
  {
   "cell_type": "code",
   "execution_count": 9,
   "metadata": {},
   "outputs": [
    {
     "name": "stdout",
     "output_type": "stream",
     "text": [
      "mae_preds_path: D:\\Databases\\CAS(ME)^2\\preds\\mae_sl_swin_t_batch_size_48_epochs_25_pseudo_labeling_128.pkl\n",
      "me_preds_path: D:\\Databases\\CAS(ME)^2\\preds\\me_sl_swin_t_batch_size_48_epochs_25_pseudo_labeling_128_3.pkl\n",
      "test_preds_path: D:\\Databases\\MEGC2022_testSet\\CAS_Test\\preds\\me_sl_swin_t_batch_size_48_epochs_25_pseudo_labeling_128.pkl\n"
     ]
    }
   ],
   "source": [
    "dataset_dir = \"D:/Databases/CAS(ME)^2\"\n",
    "# dataset_dir = \"F:/HEH/Databases/CAS(ME)^2\"\n",
    "# dataset_dir = \"/data/disk1/heh/databases/CAS(ME)^2\"\n",
    "\n",
    "# dataset_dir = \"D:/Databases/SAMM_longvideos\"\n",
    "# dataset_dir = \"F:/HEH/Databases/SAMM_longvideos\"\n",
    "# dataset_dir = \"/data/disk1/heh/databases/SAMM_longvideos\"\n",
    "\n",
    "test_dataset_dir = \"D:/Databases/MEGC2022_testSet/CAS_Test_cropped\"\n",
    "# test_dataset_dir = \"F:/HEH/Databases/MEGC2022_testSet/CAS_Test_cropped\"\n",
    "# test_dataset_dir = \"/data/disk1/heh/databases/MEGC2022_testSet/CAS_Test_cropped\"\n",
    "\n",
    "# test_dataset_dir = \"D:/Databases/MEGC2022_testSet/SAMM_Test_cropped\"\n",
    "# test_dataset_dir = \"F:/HEH/Databases/MEGC2022_testSet/SAMM_Test_cropped\"\n",
    "# test_dataset_dir = \"/data/disk1/heh/databases/MEGC2022_testSet/SAMM_Test_cropped\"\n",
    "\n",
    "images_loading = False\n",
    "image_size = 128\n",
    "load_cropped_images = False\n",
    "# expression_type = \"mae\"  # macro-expression spotting\n",
    "expression_type = \"me\"  # micro-expression spotting\n",
    "save_x = False\n",
    "debug_preds = True\n",
    "labeling_function = \"pseudo_labeling\"\n",
    "# labeling_function = \"original_labeling\"\n",
    "model_names = {\n",
    "    0: \"SOFTNet\",\n",
    "    1: \"SOFTNetCBAM\",\n",
    "    2: \"ViT-B\",\n",
    "    3: \"SL-ViT-B\",\n",
    "    4: \"Swin-T\",\n",
    "    5: \"Swin-S\",\n",
    "    6: \"L-Swin-T\",\n",
    "    7: \"S-Swin-T\",\n",
    "    8: \"SL-Swin-T\",\n",
    "    9: \"SL-Swin-S\",\n",
    "}\n",
    "batch_size = 48\n",
    "epochs = 25\n",
    "save_preds = False\n",
    "\n",
    "mae_model_name = model_names[8]\n",
    "mae_preds_stem = (\n",
    "    f\"mae_\"\n",
    "    + mae_model_name.lower().replace(\"-\", \"_\")\n",
    "    + f\"_batch_size_{batch_size}\"\n",
    "    + f\"_epochs_{epochs}\"\n",
    "    + f\"_{labeling_function}\"\n",
    "    + f\"_{image_size}\"\n",
    "    # + \"_1\"\n",
    ")\n",
    "mae_preds_path = Path(dataset_dir, \"preds\", mae_preds_stem).with_suffix(\".pkl\")\n",
    "print(f\"mae_preds_path: {mae_preds_path}\")\n",
    "\n",
    "me_model_name = model_names[8]\n",
    "me_preds_stem = (\n",
    "    f\"me_\"\n",
    "    + me_model_name.lower().replace(\"-\", \"_\")\n",
    "    + f\"_batch_size_{batch_size}\"\n",
    "    + f\"_epochs_{epochs}\"\n",
    "    + f\"_{labeling_function}\"\n",
    "    + f\"_{image_size}\"\n",
    "    + \"_3\"\n",
    ")\n",
    "me_preds_path = Path(dataset_dir, \"preds\", me_preds_stem).with_suffix(\".pkl\")\n",
    "print(f\"me_preds_path: {me_preds_path}\")\n",
    "\n",
    "model_name = model_names[8]\n",
    "test_preds_parent = Path(test_dataset_dir).parent / Path(\n",
    "    Path(test_dataset_dir).name.split(\"_\")[0]\n",
    "    + \"_\"\n",
    "    + Path(test_dataset_dir).name.split(\"_\")[1],\n",
    "    \"preds\",\n",
    ")\n",
    "test_preds_stem = (\n",
    "    f\"{expression_type}_\"\n",
    "    + model_name.lower().replace(\"-\", \"_\")\n",
    "    + f\"_batch_size_{batch_size}\"\n",
    "    + f\"_epochs_{epochs}\"\n",
    "    + f\"_{labeling_function}\"\n",
    "    + f\"_{image_size}\"\n",
    ")\n",
    "test_preds_path = Path(test_preds_parent, test_preds_stem).with_suffix(\".pkl\")\n",
    "print(f\"test_preds_path: {test_preds_path}\")"
   ]
  },
  {
   "attachments": {},
   "cell_type": "markdown",
   "metadata": {},
   "source": [
    "## Load Images \n"
   ]
  },
  {
   "attachments": {},
   "cell_type": "markdown",
   "metadata": {},
   "source": [
    "When debug the image processing, the videos_images is from cropped_rawpic, whereas the other variables are from rawpic.\n"
   ]
  },
  {
   "cell_type": "code",
   "execution_count": 10,
   "metadata": {},
   "outputs": [
    {
     "name": "stdout",
     "output_type": "stream",
     "text": [
      "subject:  s15\n",
      "subject:  s16\n",
      "subject:  s19\n",
      "subject:  s20\n",
      "subject:  s21\n",
      "subject:  s22\n",
      "subject:  s23\n",
      "subject:  s24\n",
      "subject:  s25\n",
      "subject:  s26\n",
      "subject:  s27\n",
      "subject:  s29\n",
      "subject:  s30\n",
      "subject:  s31\n",
      "subject:  s32\n",
      "subject:  s33\n",
      "subject:  s34\n",
      "subject:  s35\n",
      "subject:  s36\n",
      "subject:  s37\n",
      "subject:  s38\n",
      "subject:  s40\n"
     ]
    }
   ],
   "source": [
    "videos_images, subjects, subjects_videos_code = images_processing.load_images(\n",
    "    dataset_dir,\n",
    "    images_loading=images_loading,\n",
    "    image_size=image_size,\n",
    "    load_cropped_images=load_cropped_images,\n",
    ")"
   ]
  },
  {
   "cell_type": "code",
   "execution_count": 11,
   "metadata": {},
   "outputs": [
    {
     "name": "stdout",
     "output_type": "stream",
     "text": [
      "subjects: ['s15', 's16', 's19', 's20', 's21', 's22', 's23', 's24', 's25', 's26', 's27', 's29', 's30', 's31', 's32', 's33', 's34', 's35', 's36', 's37', 's38', 's40']\n",
      "subjects_videos_code: [['0101', '0102', '0401', '0402', '0502', '0503', '0505', '0508'], ['0101', '0102', '0401', '0402', '0502', '0505', '0507'], ['0102', '0402', '0505', '0507', '0502'], ['0502'], ['0101', '0401'], ['0101', '0102', '0402', '0503', '0508'], ['0102', '0402', '0503', '0507'], ['0101', '0401', '0402', '0502', '0507'], ['0101', '0102', '0502', '0508'], ['0101', '0102', '0401', '0503'], ['0101', '0102', '0401', '0402', '0502', '0503', '0505', '0507', '0508'], ['0502'], ['0101', '0102', '0401', '0502', '0503', '0505', '0507'], ['0101', '0401', '0402', '0502', '0503', '0505', '0507'], ['0101', '0102', '0401', '0402', '0502', '0503', '0505', '0507', '0508'], ['0102', '0402'], ['0401', '0402', '0503'], ['0102'], ['0401', '0505'], ['0101', '0402', '0502', '0505', '0507', '0508'], ['0502', '0507'], ['0401', '0502', '0503']]\n"
     ]
    }
   ],
   "source": [
    "print(\"subjects:\", subjects)\n",
    "print(\"subjects_videos_code:\", subjects_videos_code)"
   ]
  },
  {
   "cell_type": "code",
   "execution_count": 12,
   "metadata": {},
   "outputs": [
    {
     "name": "stdout",
     "output_type": "stream",
     "text": [
      "test_subject_video_code:  sub01\n",
      "test_subject_video_code:  sub02\n",
      "test_subject_video_code:  sub03\n",
      "test_subject_video_code:  sub04\n",
      "test_subject_video_code:  sub05\n"
     ]
    }
   ],
   "source": [
    "test_videos_images, test_subjects, test_videos_name = images_processing.load_images(\n",
    "    test_dataset_dir,\n",
    "    images_loading=images_loading,\n",
    "    image_size=image_size,\n",
    "    load_cropped_images=load_cropped_images,\n",
    ")"
   ]
  },
  {
   "cell_type": "code",
   "execution_count": 13,
   "metadata": {},
   "outputs": [
    {
     "name": "stdout",
     "output_type": "stream",
     "text": [
      "test_subjects: ['sub01', 'sub02', 'sub03', 'sub04', 'sub05']\n",
      "test_videos_name: ['sub01', 'sub02', 'sub03', 'sub04', 'sub05']\n"
     ]
    }
   ],
   "source": [
    "print(\"test_subjects:\", test_subjects)\n",
    "print(\"test_videos_name:\", test_videos_name)"
   ]
  },
  {
   "attachments": {},
   "cell_type": "markdown",
   "metadata": {},
   "source": [
    "## Load Excel\n"
   ]
  },
  {
   "cell_type": "code",
   "execution_count": 14,
   "metadata": {},
   "outputs": [
    {
     "data": {
      "text/html": [
       "<div>\n",
       "<style scoped>\n",
       "    .dataframe tbody tr th:only-of-type {\n",
       "        vertical-align: middle;\n",
       "    }\n",
       "\n",
       "    .dataframe tbody tr th {\n",
       "        vertical-align: top;\n",
       "    }\n",
       "\n",
       "    .dataframe thead th {\n",
       "        text-align: right;\n",
       "    }\n",
       "</style>\n",
       "<table border=\"1\" class=\"dataframe\">\n",
       "  <thead>\n",
       "    <tr style=\"text-align: right;\">\n",
       "      <th></th>\n",
       "      <th>participant</th>\n",
       "      <th>video_name_&amp;_expression_number</th>\n",
       "      <th>onset</th>\n",
       "      <th>apex</th>\n",
       "      <th>offset</th>\n",
       "      <th>AUs</th>\n",
       "      <th>extimated_emotion</th>\n",
       "      <th>expression_type</th>\n",
       "      <th>self-reported_emotion</th>\n",
       "      <th>video_name</th>\n",
       "      <th>video_code</th>\n",
       "      <th>subject</th>\n",
       "    </tr>\n",
       "  </thead>\n",
       "  <tbody>\n",
       "    <tr>\n",
       "      <th>0</th>\n",
       "      <td>1</td>\n",
       "      <td>anger1_1</td>\n",
       "      <td>557</td>\n",
       "      <td>572</td>\n",
       "      <td>608</td>\n",
       "      <td>4+10+14+15</td>\n",
       "      <td>negative</td>\n",
       "      <td>macro-expression</td>\n",
       "      <td>anger</td>\n",
       "      <td>anger1</td>\n",
       "      <td>0401</td>\n",
       "      <td>s15</td>\n",
       "    </tr>\n",
       "    <tr>\n",
       "      <th>1</th>\n",
       "      <td>1</td>\n",
       "      <td>anger1_2</td>\n",
       "      <td>2854</td>\n",
       "      <td>2862</td>\n",
       "      <td>2871</td>\n",
       "      <td>38</td>\n",
       "      <td>others</td>\n",
       "      <td>macro-expression</td>\n",
       "      <td>sadness</td>\n",
       "      <td>anger1</td>\n",
       "      <td>0401</td>\n",
       "      <td>s15</td>\n",
       "    </tr>\n",
       "    <tr>\n",
       "      <th>2</th>\n",
       "      <td>1</td>\n",
       "      <td>anger2_1</td>\n",
       "      <td>2155</td>\n",
       "      <td>2163</td>\n",
       "      <td>0</td>\n",
       "      <td>NaN</td>\n",
       "      <td>negative</td>\n",
       "      <td>macro-expression</td>\n",
       "      <td>anger</td>\n",
       "      <td>anger2</td>\n",
       "      <td>0402</td>\n",
       "      <td>s15</td>\n",
       "    </tr>\n",
       "    <tr>\n",
       "      <th>3</th>\n",
       "      <td>1</td>\n",
       "      <td>anger2_2</td>\n",
       "      <td>3363</td>\n",
       "      <td>3371</td>\n",
       "      <td>3383</td>\n",
       "      <td>4+7+14</td>\n",
       "      <td>negative</td>\n",
       "      <td>macro-expression</td>\n",
       "      <td>anger</td>\n",
       "      <td>anger2</td>\n",
       "      <td>0402</td>\n",
       "      <td>s15</td>\n",
       "    </tr>\n",
       "    <tr>\n",
       "      <th>4</th>\n",
       "      <td>1</td>\n",
       "      <td>anger2_3</td>\n",
       "      <td>3380</td>\n",
       "      <td>3386</td>\n",
       "      <td>3407</td>\n",
       "      <td>4+14+38</td>\n",
       "      <td>negative</td>\n",
       "      <td>macro-expression</td>\n",
       "      <td>anger</td>\n",
       "      <td>anger2</td>\n",
       "      <td>0402</td>\n",
       "      <td>s15</td>\n",
       "    </tr>\n",
       "  </tbody>\n",
       "</table>\n",
       "</div>"
      ],
      "text/plain": [
       "   participant video_name_&_expression_number  onset  apex  offset   \n",
       "0            1                       anger1_1    557   572     608  \\\n",
       "1            1                       anger1_2   2854  2862    2871   \n",
       "2            1                       anger2_1   2155  2163       0   \n",
       "3            1                       anger2_2   3363  3371    3383   \n",
       "4            1                       anger2_3   3380  3386    3407   \n",
       "\n",
       "          AUs extimated_emotion   expression_type self-reported_emotion   \n",
       "0  4+10+14+15          negative  macro-expression                 anger  \\\n",
       "1          38            others  macro-expression               sadness   \n",
       "2         NaN          negative  macro-expression                 anger   \n",
       "3      4+7+14          negative  macro-expression                 anger   \n",
       "4     4+14+38          negative  macro-expression                 anger   \n",
       "\n",
       "  video_name video_code subject  \n",
       "0     anger1       0401     s15  \n",
       "1     anger1       0401     s15  \n",
       "2     anger2       0402     s15  \n",
       "3     anger2       0402     s15  \n",
       "4     anger2       0402     s15  "
      ]
     },
     "execution_count": 14,
     "metadata": {},
     "output_type": "execute_result"
    }
   ],
   "source": [
    "Excel_data = labels_processing.load_excel(dataset_dir)\n",
    "Excel_data.head(5)"
   ]
  },
  {
   "attachments": {},
   "cell_type": "markdown",
   "metadata": {},
   "source": [
    "## Load Ground Truth Labels\n"
   ]
  },
  {
   "cell_type": "code",
   "execution_count": 15,
   "metadata": {},
   "outputs": [
    {
     "name": "stdout",
     "output_type": "stream",
     "text": [
      "required_videos_index:  [1, 4, 8, 9, 12, 13, 14, 16, 28, 33, 36, 37, 38, 45, 46, 47, 49, 50, 52, 54, 55, 57, 62, 64, 67, 71, 73, 74, 77, 83, 87, 91, 93]\n",
      "len(clean_videos_images) = 33\n"
     ]
    }
   ],
   "source": [
    "(\n",
    "    clean_videos_images,\n",
    "    clean_subjects_videos_code,\n",
    "    clean_subjects,\n",
    "    clean_subjects_videos_ground_truth_labels,\n",
    ") = labels_processing.load_ground_truth_labels(\n",
    "    dataset_dir,\n",
    "    expression_type,\n",
    "    videos_images,\n",
    "    subjects_videos_code,\n",
    "    subjects,\n",
    "    Excel_data,\n",
    ")"
   ]
  },
  {
   "cell_type": "code",
   "execution_count": 16,
   "metadata": {},
   "outputs": [
    {
     "name": "stdout",
     "output_type": "stream",
     "text": [
      "len(clean_subjects):  14\n",
      "clean_subjects:  ['s15' 's16' 's19' 's23' 's24' 's25' 's27' 's29' 's30' 's31' 's32' 's35'\n",
      " 's37' 's38']\n",
      "len(clean_subjects_videos_code):  14\n",
      "clean_subjects_videos_codes:  [['0102', '0502'], ['0101', '0102', '0502', '0505', '0507'], ['0402'], ['0102'], ['0401', '0507'], ['0101', '0102'], ['0101', '0102', '0401', '0502', '0503', '0507'], ['0502'], ['0101', '0401'], ['0101', '0402', '0505'], ['0401', '0502', '0503', '0508'], ['0102'], ['0402', '0508'], ['0507']]\n",
      "len(clean_subjects_videos_ground_truth_labels):  14\n",
      "clean_subjects_videos_ground_truth_labels:  [[[[698, 706]], [[137, 147]]], [[[551, 564]], [[269, 277]], [[322, 333]], [[395, 406], [1694, 1709], [1879, 1894]], [[1957, 1967], [2284, 2294]]], [[[1926, 1941]]], [[[330, 345], [525, 539], [726, 739]]], [[[607, 620], [962, 976], [1889, 1901], [2180, 2192], [3440, 3452]], [[1835, 1847], [1950, 1964], [3232, 3247]]], [[[112, 126]], [[995, 1007], [1007, 1016], [1017, 1033]]], [[[873, 887]], [[33, 47], [308, 316], [373, 387]], [[351, 364], [368, 381], [1134, 1146], [1973, 1985]], [[612, 627]], [[418, 431]], [[875, 889]]], [[[139, 151]]], [[[1454, 1465]], [[925, 940]]], [[[1420, 1432]], [[1688, 1701], [2189, 2203], [2376, 2388], [3802, 3814]], [[1045, 1058]]], [[[267, 277]], [[310, 323], [1170, 1183]], [[257, 271], [1030, 1043]], [[285, 300]]], [[[99, 112], [362, 370]]], [[[3501, 3513]], [[417, 429]]], [[[2231, 2246]]]]\n"
     ]
    }
   ],
   "source": [
    "print(\"len(clean_subjects): \", len(clean_subjects))\n",
    "print(\"clean_subjects: \", clean_subjects)\n",
    "print(\"len(clean_subjects_videos_code): \", len(clean_subjects_videos_code))\n",
    "print(\"clean_subjects_videos_codes: \", clean_subjects_videos_code)\n",
    "print(\n",
    "    \"len(clean_subjects_videos_ground_truth_labels): \",\n",
    "    len(clean_subjects_videos_ground_truth_labels),\n",
    ")\n",
    "print(\n",
    "    \"clean_subjects_videos_ground_truth_labels: \",\n",
    "    clean_subjects_videos_ground_truth_labels,\n",
    ")"
   ]
  },
  {
   "cell_type": "code",
   "execution_count": 17,
   "metadata": {},
   "outputs": [
    {
     "name": "stdout",
     "output_type": "stream",
     "text": [
      "required_videos_index:  [0, 1, 2, 3, 4, 5, 6, 8, 9, 10, 11, 12, 13, 14, 15, 17, 18, 20, 21, 22, 23, 24, 25, 26, 27, 28, 29, 31, 32, 33, 34, 35, 36, 38, 39, 40, 41, 42, 43, 44, 45, 46, 47, 48, 49, 50, 51, 52, 53, 56, 57, 58, 59, 60, 61, 62, 63, 64, 65, 66, 67, 68, 69, 70, 71, 72, 73, 74, 75, 76, 78, 79, 80, 81, 82, 84, 85, 86, 87, 88, 89, 90, 91, 92, 93, 94, 95, 96]\n",
      "len(clean_videos_images) = 88\n"
     ]
    }
   ],
   "source": [
    "(\n",
    "    mae_clean_videos_images,\n",
    "    mae_clean_subjects_videos_code,\n",
    "    mae_clean_subjects,\n",
    "    mae_clean_subjects_videos_ground_truth_labels,\n",
    ") = labels_processing.load_ground_truth_labels(\n",
    "    dataset_dir,\n",
    "    \"mae\",\n",
    "    videos_images,\n",
    "    subjects_videos_code,\n",
    "    subjects,\n",
    "    Excel_data,\n",
    ")"
   ]
  },
  {
   "cell_type": "code",
   "execution_count": 18,
   "metadata": {},
   "outputs": [
    {
     "name": "stdout",
     "output_type": "stream",
     "text": [
      "len(mae_clean_subjects):  20\n",
      "mae_clean_subjects:  ['s15' 's16' 's19' 's20' 's21' 's22' 's23' 's24' 's25' 's26' 's27' 's30'\n",
      " 's31' 's32' 's33' 's34' 's36' 's37' 's38' 's40']\n",
      "len(mae_clean_subjects_videos_code):  20\n",
      "mae_clean_subjects_videos_codes:  [['0101', '0102', '0401', '0402', '0502', '0503', '0505'], ['0101', '0102', '0401', '0402', '0502', '0505', '0507'], ['0102', '0505', '0507'], ['0502'], ['0101', '0401'], ['0101', '0102', '0402', '0503', '0508'], ['0102', '0402', '0507'], ['0101', '0401', '0402', '0502', '0507'], ['0102', '0502', '0508'], ['0101', '0102', '0401', '0503'], ['0101', '0102', '0401', '0402', '0502', '0503', '0505', '0507', '0508'], ['0102', '0401', '0502', '0503', '0505', '0507'], ['0101', '0401', '0402', '0502', '0503', '0505', '0507'], ['0101', '0102', '0401', '0402', '0502', '0503', '0505', '0507'], ['0102', '0402'], ['0401', '0402', '0503'], ['0401', '0505'], ['0101', '0402', '0502', '0505', '0507', '0508'], ['0502', '0507'], ['0401', '0502', '0503']]\n",
      "len(mae_clean_subjects_videos_ground_truth_labels):  20\n",
      "mae_clean_subjects_videos_ground_truth_labels:  [[[[1194, 1265]], [[395, 429], [406, 434], [780, 801]], [[556, 607], [2853, 2870]], [[2154, 2162], [3362, 3382], [3379, 3406], [3737, 3821], [3760, 3778]], [[177, 189], [2202, 2226]], [[2456, 2509]], [[1402, 1435]]], [[[166, 198], [332, 345], [696, 724], [914, 964], [1227, 1283], [1791, 1835], [1793, 1841]], [[186, 239], [172, 247], [316, 399], [321, 355], [321, 358], [419, 444], [525, 542], [719, 740]], [[553, 616], [1655, 1699], [1740, 1779], [3579, 3598]], [[414, 456], [1381, 1415], [1539, 1576], [1864, 1910], [2148, 2209], [2711, 2751], [2904, 2936], [3408, 3460], [3931, 3942]], [[337, 372], [849, 893], [1097, 1147], [1404, 1440], [1469, 1522], [2192, 2219]], [[67, 88], [990, 996], [1134, 1204], [1351, 1387], [1594, 1614], [1609, 1677], [1901, 1951], [2238, 2294]], [[843, 869], [1570, 1632], [2337, 2410], [3168, 3214]]], [[[821, 864], [886, 925]], [[1754, 1807]], [[2976, 3038]]], [[[980, 998], [1124, 1160], [1402, 1498]]], [[[168, 190]], [[3378, 3410]]], [[[365, 392], [379, 390], [509, 524], [1561, 1579], [1572, 1577], [1644, 1649], [1705, 1727], [1751, 1767], [1821, 1854], [1914, 1940]], [[300, 319], [320, 336], [903, 911]], [[3245, 3269]], [[2757, 2773]], [[80, 114]]], [[[912, 939], [996, 1014]], [[3684, 3718], [3798, 3817], [3878, 3902]], [[2743, 2763]]], [[[1355, 1379], [1382, 1418]], [[354, 384], [433, 449], [1261, 1268], [1902, 1949], [2207, 2275], [2542, 2575], [3410, 3439]], [[3296, 3341], [3552, 3598]], [[851, 868], [1077, 1100], [1583, 1629], [1862, 1888]], [[831, 880], [1420, 1463], [1647, 1657], [1663, 1702], [1857, 1881], [2004, 2043], [2228, 2246], [2690, 2745], [3167, 3222]]], [[[469, 489]], [[840, 912], [944, 983]], [[122, 166], [188, 202]]], [[[1013, 1039]], [[307, 344], [427, 446]], [[574, 621]], [[407, 437], [1726, 1756]]], [[[416, 472], [889, 910], [1200, 1219], [1220, 1223], [1702, 1721]], [[313, 331], [438, 456], [451, 508], [552, 571], [794, 817], [1052, 1073]], [[1151, 1176], [1681, 1732], [2157, 2181], [2240, 2257]], [[2631, 2652], [3726, 3744]], [[168, 250], [328, 340], [557, 598], [1080, 1132], [1437, 1464], [2186, 2218]], [[358, 393], [2224, 2270]], [[1121, 1233], [1757, 1812], [1917, 1981]], [[900, 918], [2676, 2701], [3186, 3211]], [[178, 242]]], [[[336, 384], [760, 803]], [[394, 421], [1580, 1621], [2982, 3020]], [[166, 196], [330, 409], [845, 894], [1171, 1194], [1568, 1613], [1917, 1953]], [[1418, 1437], [1546, 1561]], [[1140, 1165], [2231, 2301]], [[1679, 1697], [3178, 3192]]], [[[381, 456], [554, 610], [725, 842], [835, 885], [1088, 1139], [1149, 1168], [1560, 1600], [1630, 1639]], [[514, 533], [2849, 2875], [3336, 3382]], [[862, 887], [2122, 2155], [2204, 2225], [2394, 2449], [3276, 3350], [3478, 3508]], [[1594, 1652]], [[2168, 2201]], [[2241, 2278]], [[767, 792], [833, 856], [1499, 1519], [1564, 1585], [2246, 2267], [3113, 3143]]], [[[884, 918], [1233, 1249]], [[779, 801]], [[301, 321], [343, 359], [405, 438], [561, 608], [873, 896], [1309, 1362], [1517, 1559], [1649, 1673], [1691, 1741], [2248, 2334], [2406, 2450], [2795, 2844], [2911, 2960], [3172, 3196]], [[1530, 1549], [2269, 2294], [2773, 2801], [3199, 3209], [3395, 3425], [3744, 3806], [3998, 4072]], [[138, 193], [324, 344], [403, 409], [857, 908], [1569, 1608], [2202, 2228]], [[257, 318], [348, 415], [655, 715], [728, 754], [747, 819], [1081, 1142], [1551, 1585], [1558, 1610], [1750, 1779], [2076, 2131], [2453, 2499], [2662, 2727]], [[1361, 1379], [1381, 1404], [1708, 1749], [2211, 2271]], [[1645, 1742], [2331, 2347]]], [[[55, 75], [107, 129]], [[3681, 3698], [4327, 4355]]], [[[1762, 1786]], [[2169, 2184]], [[989, 1041]]], [[[105, 144]], [[347, 372], [565, 581], [1073, 1094]]], [[[1288, 1309]], [[2782, 2809], [3044, 3065], [3175, 3199], [3396, 3412]], [[850, 874], [1857, 1867]], [[413, 422], [1166, 1181], [1467, 1508], [1510, 1540], [1940, 1973], [2228, 2268]], [[845, 860], [1570, 1679], [1750, 1761], [2019, 2073], [2340, 2399], [2687, 2751]], [[232, 254], [321, 332]]], [[[328, 341], [877, 921], [961, 980], [1188, 1196], [1781, 1840], [1868, 1881]], [[1241, 1262], [1376, 1421], [1663, 1702], [1774, 1808], [1869, 1910]]], [[[391, 414], [591, 612]], [[600, 612], [1597, 1612]], [[2691, 2706]]]]\n"
     ]
    }
   ],
   "source": [
    "print(\"len(mae_clean_subjects): \", len(mae_clean_subjects))\n",
    "print(\"mae_clean_subjects: \", mae_clean_subjects)\n",
    "print(\"len(mae_clean_subjects_videos_code): \", len(mae_clean_subjects_videos_code))\n",
    "print(\"mae_clean_subjects_videos_codes: \", mae_clean_subjects_videos_code)\n",
    "print(\n",
    "    \"len(mae_clean_subjects_videos_ground_truth_labels): \",\n",
    "    len(mae_clean_subjects_videos_ground_truth_labels),\n",
    ")\n",
    "print(\n",
    "    \"mae_clean_subjects_videos_ground_truth_labels: \",\n",
    "    mae_clean_subjects_videos_ground_truth_labels,\n",
    ")"
   ]
  },
  {
   "cell_type": "code",
   "execution_count": 19,
   "metadata": {},
   "outputs": [
    {
     "name": "stdout",
     "output_type": "stream",
     "text": [
      "required_videos_index:  [1, 4, 8, 9, 12, 13, 14, 16, 28, 33, 36, 37, 38, 45, 46, 47, 49, 50, 52, 54, 55, 57, 62, 64, 67, 71, 73, 74, 77, 83, 87, 91, 93]\n",
      "len(clean_videos_images) = 33\n"
     ]
    }
   ],
   "source": [
    "(\n",
    "    me_clean_videos_images,\n",
    "    me_clean_subjects_videos_code,\n",
    "    me_clean_subjects,\n",
    "    me_clean_subjects_videos_ground_truth_labels,\n",
    ") = labels_processing.load_ground_truth_labels(\n",
    "    dataset_dir,\n",
    "    \"me\",\n",
    "    videos_images,\n",
    "    subjects_videos_code,\n",
    "    subjects,\n",
    "    Excel_data,\n",
    ")"
   ]
  },
  {
   "cell_type": "code",
   "execution_count": 20,
   "metadata": {},
   "outputs": [
    {
     "name": "stdout",
     "output_type": "stream",
     "text": [
      "len(me_clean_subjects):  14\n",
      "me_clean_subjects:  ['s15' 's16' 's19' 's23' 's24' 's25' 's27' 's29' 's30' 's31' 's32' 's35'\n",
      " 's37' 's38']\n",
      "len(me_clean_subjects_videos_code):  14\n",
      "me_clean_subjects_videos_codes:  [['0102', '0502'], ['0101', '0102', '0502', '0505', '0507'], ['0402'], ['0102'], ['0401', '0507'], ['0101', '0102'], ['0101', '0102', '0401', '0502', '0503', '0507'], ['0502'], ['0101', '0401'], ['0101', '0402', '0505'], ['0401', '0502', '0503', '0508'], ['0102'], ['0402', '0508'], ['0507']]\n",
      "len(me_clean_subjects_videos_ground_truth_labels):  14\n",
      "me_clean_subjects_videos_ground_truth_labels:  [[[[698, 706]], [[137, 147]]], [[[551, 564]], [[269, 277]], [[322, 333]], [[395, 406], [1694, 1709], [1879, 1894]], [[1957, 1967], [2284, 2294]]], [[[1926, 1941]]], [[[330, 345], [525, 539], [726, 739]]], [[[607, 620], [962, 976], [1889, 1901], [2180, 2192], [3440, 3452]], [[1835, 1847], [1950, 1964], [3232, 3247]]], [[[112, 126]], [[995, 1007], [1007, 1016], [1017, 1033]]], [[[873, 887]], [[33, 47], [308, 316], [373, 387]], [[351, 364], [368, 381], [1134, 1146], [1973, 1985]], [[612, 627]], [[418, 431]], [[875, 889]]], [[[139, 151]]], [[[1454, 1465]], [[925, 940]]], [[[1420, 1432]], [[1688, 1701], [2189, 2203], [2376, 2388], [3802, 3814]], [[1045, 1058]]], [[[267, 277]], [[310, 323], [1170, 1183]], [[257, 271], [1030, 1043]], [[285, 300]]], [[[99, 112], [362, 370]]], [[[3501, 3513]], [[417, 429]]], [[[2231, 2246]]]]\n"
     ]
    }
   ],
   "source": [
    "print(\"len(me_clean_subjects): \", len(me_clean_subjects))\n",
    "print(\"me_clean_subjects: \", me_clean_subjects)\n",
    "print(\"len(me_clean_subjects_videos_code): \", len(me_clean_subjects_videos_code))\n",
    "print(\"me_clean_subjects_videos_codes: \", me_clean_subjects_videos_code)\n",
    "print(\n",
    "    \"len(me_clean_subjects_videos_ground_truth_labels): \",\n",
    "    len(me_clean_subjects_videos_ground_truth_labels),\n",
    ")\n",
    "print(\n",
    "    \"me_clean_subjects_videos_ground_truth_labels: \",\n",
    "    me_clean_subjects_videos_ground_truth_labels,\n",
    ")"
   ]
  },
  {
   "attachments": {},
   "cell_type": "markdown",
   "metadata": {},
   "source": [
    "## Calculate `k`\n"
   ]
  },
  {
   "cell_type": "code",
   "execution_count": 21,
   "metadata": {},
   "outputs": [
    {
     "name": "stdout",
     "output_type": "stream",
     "text": [
      "k (Half of average length of expression) =  6\n"
     ]
    }
   ],
   "source": [
    "k = labels_processing.calculate_k(clean_subjects_videos_ground_truth_labels)"
   ]
  },
  {
   "cell_type": "code",
   "execution_count": 22,
   "metadata": {},
   "outputs": [
    {
     "name": "stdout",
     "output_type": "stream",
     "text": [
      "k (Half of average length of expression) =  18\n",
      "k (Half of average length of expression) =  6\n"
     ]
    }
   ],
   "source": [
    "mae_k = labels_processing.calculate_k(mae_clean_subjects_videos_ground_truth_labels)\n",
    "me_k = labels_processing.calculate_k(me_clean_subjects_videos_ground_truth_labels)"
   ]
  },
  {
   "attachments": {},
   "cell_type": "markdown",
   "metadata": {},
   "source": [
    "## Pseudo Labeling\n"
   ]
  },
  {
   "cell_type": "code",
   "execution_count": 23,
   "metadata": {},
   "outputs": [],
   "source": [
    "list_pseudo_labels = []\n",
    "pseudo_labeled_video_count = 0\n",
    "\n",
    "# for (\n",
    "#         clean_subject_videos_ground_truth_labels\n",
    "#     ) in clean_subjects_videos_ground_truth_labels:\n",
    "#         for (\n",
    "#             clean_subject_video_ground_truth_labels\n",
    "#         ) in clean_subject_videos_ground_truth_labels:\n",
    "clean_subject_videos_ground_truth_labels = clean_subjects_videos_ground_truth_labels[0]\n",
    "clean_subject_video_ground_truth_labels = clean_subject_videos_ground_truth_labels[0]\n",
    "clean_subject_video_ground_truth_durations = []\n",
    "if len(clean_subject_video_ground_truth_labels) == 0:\n",
    "    # The last k frames are ignored\n",
    "    list_pseudo_labels.append(\n",
    "        [0] * (len(clean_videos_images[pseudo_labeled_video_count]) - k)\n",
    "    )\n",
    "else:\n",
    "    for (\n",
    "        clean_subject_video_ground_truth_label\n",
    "    ) in clean_subject_video_ground_truth_labels:\n",
    "        clean_subject_video_ground_truth_durations = np.append(\n",
    "            clean_subject_video_ground_truth_durations,\n",
    "            np.arange(\n",
    "                clean_subject_video_ground_truth_label[0],\n",
    "                clean_subject_video_ground_truth_label[1] + 1,\n",
    "            ),\n",
    "        )\n",
    "    clean_subject_video_ground_truth_durations = np.unique(\n",
    "        clean_subject_video_ground_truth_durations\n",
    "    )\n",
    "\n",
    "    video_pseudo_labels = np.zeros(\n",
    "        len(clean_videos_images[pseudo_labeled_video_count]) - k\n",
    "    )\n",
    "    # - 1 for shape consistency\n",
    "    labels_for_sliding_window = np.arange(\n",
    "        len(clean_videos_images[pseudo_labeled_video_count]) - 1\n",
    "    )\n",
    "    view = np.lib.stride_tricks.sliding_window_view(labels_for_sliding_window, k)\n",
    "\n",
    "    # each video may contains more than one micro-expression\n",
    "    # so there may be more than one duration\n",
    "    # for (\n",
    "    #     clean_subject_video_ground_truth_duration\n",
    "    # ) in clean_subject_video_ground_truth_durations:\n",
    "    # Numerator\n",
    "    numerator = (\n",
    "        np.isin(view, clean_subject_video_ground_truth_durations)\n",
    "        .astype(int)\n",
    "        .sum(axis=1)\n",
    "    )\n",
    "\n",
    "    # Denumerator\n",
    "    view_not_in_duration_count = (\n",
    "        np.isin(view, clean_subject_video_ground_truth_durations, invert=True)\n",
    "        .astype(int)\n",
    "        .sum(axis=1)\n",
    "    )\n",
    "    denumerator = (\n",
    "        clean_subject_video_ground_truth_durations.size + view_not_in_duration_count\n",
    "    )\n",
    "\n",
    "    iou = numerator / denumerator\n",
    "    # Function g (Heaviside step function)\n",
    "    video_pseudo_labels = np.where(iou > 0, 1, 0).tolist()\n",
    "\n",
    "    # Integrate all videos into one list\n",
    "    list_pseudo_labels += video_pseudo_labels\n",
    "\n",
    "pseudo_labeled_video_count += 1"
   ]
  },
  {
   "cell_type": "code",
   "execution_count": 24,
   "metadata": {},
   "outputs": [
    {
     "name": "stdout",
     "output_type": "stream",
     "text": [
      "clean_subjects_videos_ground_truth_labels: [[[[698, 706]], [[137, 147]]], [[[551, 564]], [[269, 277]], [[322, 333]], [[395, 406], [1694, 1709], [1879, 1894]], [[1957, 1967], [2284, 2294]]], [[[1926, 1941]]], [[[330, 345], [525, 539], [726, 739]]], [[[607, 620], [962, 976], [1889, 1901], [2180, 2192], [3440, 3452]], [[1835, 1847], [1950, 1964], [3232, 3247]]], [[[112, 126]], [[995, 1007], [1007, 1016], [1017, 1033]]], [[[873, 887]], [[33, 47], [308, 316], [373, 387]], [[351, 364], [368, 381], [1134, 1146], [1973, 1985]], [[612, 627]], [[418, 431]], [[875, 889]]], [[[139, 151]]], [[[1454, 1465]], [[925, 940]]], [[[1420, 1432]], [[1688, 1701], [2189, 2203], [2376, 2388], [3802, 3814]], [[1045, 1058]]], [[[267, 277]], [[310, 323], [1170, 1183]], [[257, 271], [1030, 1043]], [[285, 300]]], [[[99, 112], [362, 370]]], [[[3501, 3513]], [[417, 429]]], [[[2231, 2246]]]]\n",
      "\n",
      "clean_subjects_videos_ground_truth_labels[0]: [[[698, 706]], [[137, 147]]]\n",
      "clean_subject_videos_ground_truth_labels[0]: [[698, 706]]\n",
      "clean_subject_video_ground_truth_duration: [698 699 700 701 702 703 704 705 706]\n",
      "len(pseudo_labels): 1069\n"
     ]
    }
   ],
   "source": [
    "print(\n",
    "    \"clean_subjects_videos_ground_truth_labels:\",\n",
    "    clean_subjects_videos_ground_truth_labels,\n",
    ")\n",
    "print()\n",
    "print(\n",
    "    \"clean_subjects_videos_ground_truth_labels[0]:\",\n",
    "    clean_subjects_videos_ground_truth_labels[0],\n",
    ")\n",
    "print(\n",
    "    \"clean_subject_videos_ground_truth_labels[0]:\",\n",
    "    clean_subject_videos_ground_truth_labels[0],\n",
    ")\n",
    "print(\n",
    "    \"clean_subject_video_ground_truth_duration:\",\n",
    "    np.arange(\n",
    "        clean_subject_video_ground_truth_label[0],\n",
    "        clean_subject_video_ground_truth_label[1] + 1,\n",
    "    ),\n",
    ")\n",
    "print(\"len(pseudo_labels):\", len(list_pseudo_labels))\n",
    "# print(\"len(pseudo_labels_copy):\", len(pseudo_labels_copy))"
   ]
  },
  {
   "attachments": {},
   "cell_type": "markdown",
   "metadata": {},
   "source": [
    "## Debug Spotting\n"
   ]
  },
  {
   "attachments": {},
   "cell_type": "markdown",
   "metadata": {},
   "source": [
    "$$\n",
    "\\frac{1}{2k}\n",
    "$$\n"
   ]
  },
  {
   "cell_type": "code",
   "execution_count": 25,
   "metadata": {},
   "outputs": [
    {
     "name": "stdout",
     "output_type": "stream",
     "text": [
      "a: [ 0  1  2  3  4  5  6  7  8  9 10 11 12 13] \n",
      "\n",
      "[[ 0  1  2  3  4  5  6  7  8  9 10 11]\n",
      " [ 1  2  3  4  5  6  7  8  9 10 11 12]\n",
      " [ 2  3  4  5  6  7  8  9 10 11 12 13]]\n",
      "view output: [5.5 6.5 7.5]\n",
      "\n",
      "[ 0  1  2  3  4  5  6  7  8  9 10 11]\n",
      "[ 1  2  3  4  5  6  7  8  9 10 11 12]\n",
      "for output: [5 6]\n"
     ]
    }
   ],
   "source": [
    "a = np.arange(14)\n",
    "print(\"a:\", a, \"\\n\")\n",
    "\n",
    "view = np.lib.stride_tricks.sliding_window_view(a, 2 * k)\n",
    "print(view)\n",
    "view = np.mean(view, axis=1)\n",
    "print(\"view output:\", view)\n",
    "\n",
    "print()\n",
    "b = a.copy()\n",
    "# b = b.astype(float)\n",
    "for x in range(len(a) - 2 * k):\n",
    "    print(a[x : x + 2 * k])\n",
    "    b[x + k] = b[x : x + 2 * k].mean()\n",
    "b = b[k:-k]\n",
    "print(\"for output:\", b)"
   ]
  },
  {
   "attachments": {},
   "cell_type": "markdown",
   "metadata": {},
   "source": [
    "$$\n",
    "\\frac{1}{2k + 1}\n",
    "$$\n"
   ]
  },
  {
   "cell_type": "code",
   "execution_count": 26,
   "metadata": {},
   "outputs": [
    {
     "name": "stdout",
     "output_type": "stream",
     "text": [
      "a: [ 0  1  2  3  4  5  6  7  8  9 10 11 12 13] \n",
      "\n",
      "[[ 0  1  2  3  4  5  6  7  8  9 10 11 12]\n",
      " [ 1  2  3  4  5  6  7  8  9 10 11 12 13]]\n",
      "view output: [6. 7.]\n",
      "\n",
      "[ 0  1  2  3  4  5  6  7  8  9 10 11 12]\n",
      "[ 1  2  3  4  5  6  7  8  9 10 11 12 13]\n",
      "for output: [6 7]\n"
     ]
    }
   ],
   "source": [
    "a = np.arange(14)\n",
    "print(\"a:\", a, \"\\n\")\n",
    "\n",
    "view = np.lib.stride_tricks.sliding_window_view(a, 2 * k + 1)\n",
    "print(view)\n",
    "view = np.mean(view, axis=1)\n",
    "print(\"view output:\", view)\n",
    "\n",
    "print()\n",
    "b = a.copy()\n",
    "# b = b.astype(float)\n",
    "for x in range(len(a) - 2 * k):\n",
    "    print(a[x : x + 2 * k + 1])\n",
    "    b[x + k] = b[x : x + 2 * k + 1].mean()\n",
    "b = b[k:-k]\n",
    "print(\"for output:\", b)"
   ]
  },
  {
   "attachments": {},
   "cell_type": "markdown",
   "metadata": {},
   "source": [
    "## Debug Evaluation\n"
   ]
  },
  {
   "cell_type": "code",
   "execution_count": 27,
   "metadata": {},
   "outputs": [
    {
     "name": "stdout",
     "output_type": "stream",
     "text": [
      "True Positive: 14 False Posive: 298 False Negative: 43\n",
      "Precision = 0.044871794871795094, Recall =0.2456140350877195, F1-Score = 0.07588075880758863\n"
     ]
    }
   ],
   "source": [
    "epsilon = sys.float_info.epsilon\n",
    "\n",
    "scenarios = {\n",
    "    0: {\n",
    "        \"dataset\": \"CAS(ME)^2\",\n",
    "        \"expression_type\": \"me\",\n",
    "        \"num_expression\": 57,\n",
    "    },\n",
    "    1: {\n",
    "        \"dataset\": \"CAS(ME)^2\",\n",
    "        \"expression_type\": \"mae\",\n",
    "        \"num_expression\": 298,\n",
    "    },\n",
    "}\n",
    "\n",
    "scenario = scenarios[0]\n",
    "true_positive = 14\n",
    "false_positive = 298\n",
    "false_negative = scenario[\"num_expression\"] - true_positive\n",
    "print(\n",
    "    f\"True Positive: {true_positive} False Posive: {false_positive} False Negative: {false_negative}\"\n",
    ")\n",
    "# add epsilon to avoid float division by zero\n",
    "precision = true_positive / (true_positive + false_positive) + epsilon\n",
    "recall = true_positive / (true_positive + false_negative) + epsilon\n",
    "F1_score = (2 * precision * recall) / (precision + recall) + epsilon\n",
    "print(f\"Precision = {precision}, Recall ={recall}, F1-Score = {F1_score}\")"
   ]
  },
  {
   "attachments": {},
   "cell_type": "markdown",
   "metadata": {},
   "source": [
    "### Debug MEGC 2022 Overall Evaluation\n"
   ]
  },
  {
   "attachments": {},
   "cell_type": "markdown",
   "metadata": {},
   "source": [
    "| Method | 3D-CNN | SL-Swin-T | Swin-T \n",
    "| --- | --- | --- | --- \n",
    "| p | --- | 0.60 | 0.60 \n",
    "| CAS_Test Precision | 0.4000 | 0.1944 | 0.1521 \n",
    "| CAS_Test Recall | 0.1111 | 0.1944 | 0.1944 \n",
    "| CAS_Test F1-score | 0.1739 | 0.1944 | 0.1707 \n",
    "| SAMM_Test Precision | 0.0845 | 0.0689 | 0.0638 \n",
    "| SAMM_Test Recall | 0.1935 | 0.1290 | 0.0967 \n",
    "| SAMM_Test F1-score | 0.1176 | 0.0898 | 0.0769 \n",
    "| Overall Precision | 0.1235 | 0.1170 | 0.1075 \n",
    "| Overall Recall | 0.1493 | 0.1641 | 0.1492 \n",
    "| Overall F1-score | 0.1351 | 0.1366 | 0.1250 \n"
   ]
  },
  {
   "attachments": {},
   "cell_type": "markdown",
   "metadata": {},
   "source": [
    "original labeling\n"
   ]
  },
  {
   "attachments": {},
   "cell_type": "markdown",
   "metadata": {},
   "source": [
    "| Method | 3D-CNN | SL-Swin-T | Swin-T\n",
    "| --- | --- | --- | --- |\n",
    "| p | --- | 0.60 | 0.60 \n",
    "| CAS_Test Precision | 0.4000 | 0.0735 | 0.1842\n",
    "| CAS_Test Recall | 0.1111 | 0.1388 | 0.1944\n",
    "| CAS_Test F1-score | 0.1739 | 0.0961 | 0.1891\n",
    "| SAMM_Test Precision | 0.0845 | 0.0317 | 0.0689\n",
    "| SAMM_Test Recall | 0.1935 | 0.0645 | 0.1290\n",
    "| SAMM_Test F1-score | 0.1176 | 0.0425 | 0.0898\n",
    "| Overall Precision | 0.1235 | 0.0534 | 0.1145\n",
    "| Overall Recall | 0.1493 | 0.1044 | 0.1641\n",
    "| Overall F1-score | 0.1351 | 0.0707 | 0.1349\n"
   ]
  },
  {
   "attachments": {},
   "cell_type": "markdown",
   "metadata": {},
   "source": [
    "### Debug MEGC 2021 Overall Evaluation\n"
   ]
  },
  {
   "attachments": {},
   "cell_type": "markdown",
   "metadata": {},
   "source": [
    "#### MaE\n"
   ]
  },
  {
   "cell_type": "code",
   "execution_count": 28,
   "metadata": {},
   "outputs": [],
   "source": [
    "with open(mae_preds_path, \"rb\") as pkl_file:\n",
    "    mae_preds = _pickle.load(pkl_file)\n",
    "    pkl_file.close()"
   ]
  },
  {
   "attachments": {},
   "cell_type": "markdown",
   "metadata": {},
   "source": [
    "#### ME\n"
   ]
  },
  {
   "cell_type": "code",
   "execution_count": 29,
   "metadata": {},
   "outputs": [],
   "source": [
    "with open(me_preds_path, \"rb\") as pkl_file:\n",
    "    me_preds = _pickle.load(pkl_file)\n",
    "    pkl_file.close()"
   ]
  },
  {
   "cell_type": "code",
   "execution_count": 30,
   "metadata": {},
   "outputs": [
    {
     "name": "stdout",
     "output_type": "stream",
     "text": [
      " p | TP | FP | FN | Precision | Recall | F1-Score\n",
      "0.01 | 203 | 7854 | 152 | 0.0252 | 0.5718 | 0.0483 |\n",
      "0.02 | 201 | 7335 | 154 | 0.0267 | 0.5662 | 0.0509 |\n",
      "0.03 | 201 | 6913 | 154 | 0.0283 | 0.5662 | 0.0538 |\n",
      "0.04 | 200 | 6454 | 155 | 0.0301 | 0.5634 | 0.0571 |\n",
      "0.05 | 199 | 6102 | 156 | 0.0316 | 0.5606 | 0.0598 |\n",
      "0.06 | 195 | 5748 | 160 | 0.0328 | 0.5493 | 0.0619 |\n",
      "0.07 | 194 | 5418 | 161 | 0.0346 | 0.5465 | 0.0650 |\n",
      "0.08 | 189 | 5086 | 166 | 0.0358 | 0.5324 | 0.0671 |\n",
      "0.09 | 185 | 4814 | 170 | 0.0370 | 0.5211 | 0.0691 |\n",
      "0.10 | 183 | 4555 | 172 | 0.0386 | 0.5155 | 0.0719 |\n",
      "0.11 | 182 | 4289 | 173 | 0.0407 | 0.5127 | 0.0754 |\n",
      "0.12 | 180 | 4058 | 175 | 0.0425 | 0.5070 | 0.0784 |\n",
      "0.13 | 175 | 3853 | 180 | 0.0434 | 0.4930 | 0.0799 |\n",
      "0.14 | 175 | 3646 | 180 | 0.0458 | 0.4930 | 0.0838 |\n",
      "0.15 | 174 | 3449 | 181 | 0.0480 | 0.4901 | 0.0875 |\n",
      "0.16 | 172 | 3262 | 183 | 0.0501 | 0.4845 | 0.0908 |\n",
      "0.17 | 169 | 3088 | 186 | 0.0519 | 0.4761 | 0.0936 |\n",
      "0.18 | 169 | 2921 | 186 | 0.0547 | 0.4761 | 0.0981 |\n",
      "0.19 | 167 | 2761 | 188 | 0.0570 | 0.4704 | 0.1017 |\n",
      "0.20 | 167 | 2638 | 188 | 0.0595 | 0.4704 | 0.1057 |\n",
      "0.21 | 165 | 2515 | 190 | 0.0616 | 0.4648 | 0.1087 |\n",
      "0.22 | 161 | 2404 | 194 | 0.0628 | 0.4535 | 0.1103 |\n",
      "0.23 | 158 | 2277 | 197 | 0.0649 | 0.4451 | 0.1133 |\n",
      "0.24 | 156 | 2164 | 199 | 0.0672 | 0.4394 | 0.1166 |\n",
      "0.25 | 154 | 2078 | 201 | 0.0690 | 0.4338 | 0.1191 |\n",
      "0.26 | 151 | 1985 | 204 | 0.0707 | 0.4254 | 0.1212 |\n",
      "0.27 | 147 | 1906 | 208 | 0.0716 | 0.4141 | 0.1221 |\n",
      "0.28 | 144 | 1841 | 211 | 0.0725 | 0.4056 | 0.1231 |\n",
      "0.29 | 142 | 1773 | 213 | 0.0742 | 0.4000 | 0.1251 |\n",
      "0.30 | 141 | 1694 | 214 | 0.0768 | 0.3972 | 0.1288 |\n",
      "0.31 | 139 | 1629 | 216 | 0.0786 | 0.3915 | 0.1309 |\n",
      "0.32 | 138 | 1552 | 217 | 0.0817 | 0.3887 | 0.1350 |\n",
      "0.33 | 137 | 1487 | 218 | 0.0844 | 0.3859 | 0.1385 |\n",
      "0.34 | 134 | 1428 | 221 | 0.0858 | 0.3775 | 0.1398 |\n",
      "0.35 | 130 | 1366 | 225 | 0.0869 | 0.3662 | 0.1405 |\n",
      "0.36 | 129 | 1319 | 226 | 0.0891 | 0.3634 | 0.1431 |\n",
      "0.37 | 127 | 1248 | 228 | 0.0924 | 0.3577 | 0.1468 |\n",
      "0.38 | 126 | 1202 | 229 | 0.0949 | 0.3549 | 0.1497 |\n",
      "0.39 | 125 | 1148 | 230 | 0.0982 | 0.3521 | 0.1536 |\n",
      "0.40 | 122 | 1097 | 233 | 0.1001 | 0.3437 | 0.1550 |\n",
      "0.41 | 119 | 1051 | 236 | 0.1017 | 0.3352 | 0.1561 |\n",
      "0.42 | 119 | 999 | 236 | 0.1064 | 0.3352 | 0.1616 |\n",
      "0.43 | 115 | 953 | 240 | 0.1077 | 0.3239 | 0.1616 |\n",
      "0.44 | 115 | 914 | 240 | 0.1118 | 0.3239 | 0.1662 |\n",
      "0.45 | 111 | 875 | 244 | 0.1126 | 0.3127 | 0.1655 |\n",
      "0.46 | 107 | 837 | 248 | 0.1133 | 0.3014 | 0.1647 |\n",
      "0.47 | 105 | 795 | 250 | 0.1167 | 0.2958 | 0.1673 |\n",
      "0.48 | 102 | 750 | 253 | 0.1197 | 0.2873 | 0.1690 |\n",
      "0.49 | 99 | 727 | 256 | 0.1199 | 0.2789 | 0.1677 |\n",
      "0.50 | 98 | 697 | 257 | 0.1233 | 0.2761 | 0.1704 |\n",
      "0.51 | 98 | 678 | 257 | 0.1263 | 0.2761 | 0.1733 |\n",
      "0.52 | 96 | 648 | 259 | 0.1290 | 0.2704 | 0.1747 |\n",
      "0.53 | 94 | 617 | 261 | 0.1322 | 0.2648 | 0.1764 |\n",
      "0.54 | 93 | 591 | 262 | 0.1360 | 0.2620 | 0.1790 |\n",
      "0.55 | 91 | 568 | 264 | 0.1381 | 0.2563 | 0.1795 |\n",
      "0.56 | 90 | 548 | 265 | 0.1411 | 0.2535 | 0.1813 |\n",
      "0.57 | 88 | 524 | 267 | 0.1438 | 0.2479 | 0.1820 |\n",
      "0.58 | 87 | 502 | 268 | 0.1477 | 0.2451 | 0.1843 |\n",
      "0.59 | 83 | 477 | 272 | 0.1482 | 0.2338 | 0.1814 |\n",
      "0.60 | 82 | 462 | 273 | 0.1507 | 0.2310 | 0.1824 |\n",
      "0.61 | 75 | 446 | 280 | 0.1440 | 0.2113 | 0.1712 |\n",
      "0.62 | 72 | 429 | 283 | 0.1437 | 0.2028 | 0.1682 |\n",
      "0.63 | 67 | 414 | 288 | 0.1393 | 0.1887 | 0.1603 |\n",
      "0.64 | 66 | 395 | 289 | 0.1432 | 0.1859 | 0.1618 |\n",
      "0.65 | 65 | 384 | 290 | 0.1448 | 0.1831 | 0.1617 |\n",
      "0.66 | 62 | 365 | 293 | 0.1452 | 0.1746 | 0.1586 |\n",
      "0.67 | 61 | 350 | 294 | 0.1484 | 0.1718 | 0.1593 |\n",
      "0.68 | 61 | 330 | 294 | 0.1560 | 0.1718 | 0.1635 |\n",
      "0.69 | 59 | 314 | 296 | 0.1582 | 0.1662 | 0.1621 |\n",
      "0.70 | 56 | 306 | 299 | 0.1547 | 0.1577 | 0.1562 |\n",
      "0.71 | 54 | 296 | 301 | 0.1543 | 0.1521 | 0.1532 |\n",
      "0.72 | 54 | 278 | 301 | 0.1627 | 0.1521 | 0.1572 |\n",
      "0.73 | 53 | 268 | 302 | 0.1651 | 0.1493 | 0.1568 |\n",
      "0.74 | 52 | 257 | 303 | 0.1683 | 0.1465 | 0.1566 |\n",
      "0.75 | 51 | 249 | 304 | 0.1700 | 0.1437 | 0.1557 |\n",
      "0.76 | 48 | 239 | 307 | 0.1672 | 0.1352 | 0.1495 |\n",
      "0.77 | 47 | 230 | 308 | 0.1697 | 0.1324 | 0.1487 |\n",
      "0.78 | 46 | 223 | 309 | 0.1710 | 0.1296 | 0.1474 |\n",
      "0.79 | 46 | 217 | 309 | 0.1749 | 0.1296 | 0.1489 |\n",
      "0.80 | 46 | 210 | 309 | 0.1797 | 0.1296 | 0.1506 |\n",
      "0.81 | 46 | 203 | 309 | 0.1847 | 0.1296 | 0.1523 |\n",
      "0.82 | 44 | 198 | 311 | 0.1818 | 0.1239 | 0.1474 |\n",
      "0.83 | 42 | 190 | 313 | 0.1810 | 0.1183 | 0.1431 |\n",
      "0.84 | 41 | 185 | 314 | 0.1814 | 0.1155 | 0.1411 |\n",
      "0.85 | 38 | 179 | 317 | 0.1751 | 0.1070 | 0.1329 |\n",
      "0.86 | 38 | 170 | 317 | 0.1827 | 0.1070 | 0.1350 |\n",
      "0.87 | 38 | 164 | 317 | 0.1881 | 0.1070 | 0.1364 |\n",
      "0.88 | 38 | 156 | 317 | 0.1959 | 0.1070 | 0.1384 |\n",
      "0.89 | 37 | 146 | 318 | 0.2022 | 0.1042 | 0.1375 |\n",
      "0.90 | 36 | 141 | 319 | 0.2034 | 0.1014 | 0.1353 |\n",
      "0.91 | 34 | 134 | 321 | 0.2024 | 0.0958 | 0.1300 |\n",
      "0.92 | 32 | 131 | 323 | 0.1963 | 0.0901 | 0.1236 |\n",
      "0.93 | 32 | 129 | 323 | 0.1988 | 0.0901 | 0.1240 |\n",
      "0.94 | 30 | 125 | 325 | 0.1935 | 0.0845 | 0.1176 |\n",
      "0.95 | 29 | 117 | 326 | 0.1986 | 0.0817 | 0.1158 |\n",
      "0.96 | 28 | 111 | 327 | 0.2014 | 0.0789 | 0.1134 |\n",
      "0.97 | 27 | 107 | 328 | 0.2015 | 0.0761 | 0.1104 |\n",
      "0.98 | 25 | 104 | 330 | 0.1938 | 0.0704 | 0.1033 |\n",
      "0.99 | 25 | 103 | 330 | 0.1953 | 0.0704 | 0.1035 |\n"
     ]
    }
   ],
   "source": [
    "\"\"\"\n",
    "The 100-threads method is almost as fast as the 10-threads method.\n",
    "\"\"\"\n",
    "\n",
    "mae_ablation_dict = {\n",
    "    \"p\": [],\n",
    "    \"true_positive\": [],\n",
    "    \"false_positive\": [],\n",
    "    \"false_negative\": [],\n",
    "    \"expression_count\": [],\n",
    "    \"precision\": [],\n",
    "    \"recall\": [],\n",
    "    \"F1_score\": [],\n",
    "}\n",
    "me_ablation_dict = {\n",
    "    \"p\": [],\n",
    "    \"true_positive\": [],\n",
    "    \"false_positive\": [],\n",
    "    \"false_negative\": [],\n",
    "    \"expression_count\": [],\n",
    "    \"precision\": [],\n",
    "    \"recall\": [],\n",
    "    \"F1_score\": [],\n",
    "}\n",
    "\n",
    "print(\" p | TP | FP | FN | Precision | Recall | F1-Score\")\n",
    "p_arange = np.arange(0.01, 1.0, 0.01)\n",
    "mae_dict_queues = []\n",
    "mae_threads = []\n",
    "me_dict_queues = []\n",
    "me_threads = []\n",
    "for _ in p_arange:\n",
    "    mae_dict_queues.append(Queue())\n",
    "    me_dict_queues.append(Queue())\n",
    "\n",
    "for p_index, p in enumerate(p_arange):\n",
    "    # mae\n",
    "    mae_thread = threading.Thread(\n",
    "        target=functions.multithread_spot_and_evaluate,\n",
    "        args=(\n",
    "            mae_preds,\n",
    "            mae_clean_subjects_videos_ground_truth_labels,\n",
    "            mae_clean_videos_images,\n",
    "            mae_clean_subjects,\n",
    "            mae_clean_subjects_videos_code,\n",
    "            mae_k,\n",
    "            p,\n",
    "            mae_dict_queues[p_index],\n",
    "        ),\n",
    "    )\n",
    "    mae_thread.start()\n",
    "    mae_threads.append(mae_thread)\n",
    "\n",
    "    # me\n",
    "    me_thread = threading.Thread(\n",
    "        target=functions.multithread_spot_and_evaluate,\n",
    "        args=(\n",
    "            me_preds,\n",
    "            me_clean_subjects_videos_ground_truth_labels,\n",
    "            me_clean_videos_images,\n",
    "            me_clean_subjects,\n",
    "            me_clean_subjects_videos_code,\n",
    "            me_k,\n",
    "            p,\n",
    "            me_dict_queues[p_index],\n",
    "        ),\n",
    "    )\n",
    "    me_thread.start()\n",
    "    me_threads.append(me_thread)\n",
    "    for mae_thread, me_thread in zip(mae_threads, me_threads):\n",
    "        mae_thread.join()\n",
    "        me_thread.join()\n",
    "    print(f\" p: {p}\", end=\"\\r\")\n",
    "\n",
    "# Attention!!!\n",
    "# Different loop sequence\n",
    "for p_index, p in enumerate(p_arange):\n",
    "    # mae\n",
    "    mae_p_segment_matrix = mae_dict_queues[p_index].get()\n",
    "    mae_ablation_dict[\"p\"] += mae_p_segment_matrix[\"p\"]\n",
    "    mae_ablation_dict[\"true_positive\"] += mae_p_segment_matrix[\"true_positive\"]\n",
    "    mae_ablation_dict[\"false_positive\"] += mae_p_segment_matrix[\"false_positive\"]\n",
    "    mae_ablation_dict[\"false_negative\"] += mae_p_segment_matrix[\"false_negative\"]\n",
    "    mae_ablation_dict[\"expression_count\"] += mae_p_segment_matrix[\"expression_count\"]\n",
    "    mae_ablation_dict[\"precision\"] += mae_p_segment_matrix[\"precision\"]\n",
    "    mae_ablation_dict[\"recall\"] += mae_p_segment_matrix[\"recall\"]\n",
    "    mae_ablation_dict[\"F1_score\"] += mae_p_segment_matrix[\"F1_score\"]\n",
    "\n",
    "    # me\n",
    "    me_p_segment_matrix = me_dict_queues[p_index].get()\n",
    "    me_ablation_dict[\"p\"] += me_p_segment_matrix[\"p\"]\n",
    "    me_ablation_dict[\"true_positive\"] += me_p_segment_matrix[\"true_positive\"]\n",
    "    me_ablation_dict[\"false_positive\"] += me_p_segment_matrix[\"false_positive\"]\n",
    "    me_ablation_dict[\"false_negative\"] += me_p_segment_matrix[\"false_negative\"]\n",
    "    me_ablation_dict[\"expression_count\"] += me_p_segment_matrix[\"expression_count\"]\n",
    "    me_ablation_dict[\"precision\"] += me_p_segment_matrix[\"precision\"]\n",
    "    me_ablation_dict[\"recall\"] += me_p_segment_matrix[\"recall\"]\n",
    "    me_ablation_dict[\"F1_score\"] += me_p_segment_matrix[\"F1_score\"]\n",
    "\n",
    "    # overall\n",
    "    true_positive = (\n",
    "        mae_ablation_dict[\"true_positive\"][-1] + me_ablation_dict[\"true_positive\"][-1]\n",
    "    )\n",
    "    false_positive = (\n",
    "        mae_ablation_dict[\"false_positive\"][-1] + me_ablation_dict[\"false_positive\"][-1]\n",
    "    )\n",
    "    false_negative = (\n",
    "        mae_ablation_dict[\"expression_count\"][-1]\n",
    "        + me_ablation_dict[\"expression_count\"][-1]\n",
    "        - true_positive\n",
    "    )\n",
    "    precision = true_positive / (true_positive + false_positive) + epsilon\n",
    "    recall = true_positive / (true_positive + false_negative) + epsilon\n",
    "    F1_score = (2 * precision * recall) / (precision + recall) + epsilon\n",
    "    print(\n",
    "        \"{:.2f} | {} | {} | {} | {:.4f} | {:.4f} | {:.4f} |\".format(\n",
    "            p,\n",
    "            true_positive,\n",
    "            false_positive,\n",
    "            false_negative,\n",
    "            precision,\n",
    "            recall,\n",
    "            F1_score,\n",
    "        )\n",
    "    )"
   ]
  },
  {
   "attachments": {},
   "cell_type": "markdown",
   "metadata": {},
   "source": [
    "#### CAS(ME)^2\n"
   ]
  },
  {
   "attachments": {},
   "cell_type": "markdown",
   "metadata": {},
   "source": [
    "| Parameters | Value | Value | Value | Value\n",
    "| --- | --- | --- | --- | ---\n",
    "| MaE model | SL-Swin-S | SL-Swin-T | SL-Swin-S | SL-Swin-S |\n",
    "| ME model | SL-Swin-T | SL-Swin-T | SL-Swin-T | SL-Swin-T\n",
    "| epochs | 25 | 20 | 20 | 25\n",
    "| batch_size | 32 | 48 | 48 | 48\n",
    "| p | 0.63 | 0.57 | 0.59 | 0.57\n",
    "| True Positive | 78 | 81 | 84 | 84\n",
    "| False Positive | 433 | 523 | 482 | 535\n",
    "| False Negative | 277 | 274 | 271 | 271\n",
    "| Precision | 0.1526 | 0.1341 | 0.1484 | 0.1357\n",
    "| Recall | 0.2197 | 0.2282 | 0.2366 | 0.2366\n",
    "| F1-Score | 0.1801 | 0.1689 | 0.1824 | 0.1725\n"
   ]
  },
  {
   "attachments": {},
   "cell_type": "markdown",
   "metadata": {},
   "source": [
    "| Parameters | Value | Value | Value |\n",
    "| --- | --- | --- | --- |\n",
    "| MaE model | SL-Swin-T | SL-Swin-T_2 | SL-Swin-T |\n",
    "| ME model | SL-Swin-T | SL-Swin-T_2 | SL-Swin-T_3 |\n",
    "| epochs | 25 | 25 | 25 |\n",
    "| batch_size | 48 | 48 | 48 |\n",
    "| p | 0.59 | 0.60 | 0.60\n",
    "| True Positive | 85 | 80 | 82\n",
    "| False Positive | 502 | 481 | 462\n",
    "| False Negative | 270 | 275 | 273\n",
    "| Precision | 0.1448 | 0.1426 | 0.1507\n",
    "| Recall | 0.2394 | 0.2254 | 0.2310\n",
    "| F1-Score | 0.1805 | 0.1747 | 0.1824\n"
   ]
  },
  {
   "attachments": {},
   "cell_type": "markdown",
   "metadata": {},
   "source": [
    "| Parameters | Value | Value | Value | Value | Value\n",
    "| --- | --- | --- | --- | --- | ---\n",
    "| MaE model | ViT-B | SL-ViT-B | Swin-T | L-Swin-T | S-Swin-T |\n",
    "| ME model | ViT-B | SL-ViT-B | Swin-T | L-Swin-T | S-Swin-T\n",
    "| epochs | 25 | 25 | 25 | 25 | 25\n",
    "| batch_size | 48 | 96 | 48 | 48 | 48\n",
    "| p | 0.60 | 0.70 | 0.57 | 0.51 | 0.49\n",
    "| True Positive | 99 | 69 | 82 | 93 | 103\n",
    "| False Positive | 945 | 370 | 549 | 656 | 709\n",
    "| False Negative | 256 | 286 | 273 | 262 | 252\n",
    "| Precision | 0.0948 | 0.1572 | 0.1300 | 0.1242 | 0.1268\n",
    "| Recall | 0.2789 | 0.1944 | 0.2310 | 0.2620 | 0.2901\n",
    "| F1-Score | 0.1415 | 0.1738 | 0.1663 | 0.1685 | 0.1765\n"
   ]
  },
  {
   "attachments": {},
   "cell_type": "markdown",
   "metadata": {},
   "source": [
    "Original Labeling\n"
   ]
  },
  {
   "attachments": {},
   "cell_type": "markdown",
   "metadata": {},
   "source": [
    "| Parameters | Value | Value |\n",
    "| --- | --- | --- |\n",
    "| MaE model | Swin-T | SL-Swin-T |\n",
    "| ME model | Swin-T | SL-Swin-T |\n",
    "| epochs | 25 | 25 |\n",
    "| batch_size | 48 | 48 |\n",
    "| p | 0.58 | 0.60 |\n",
    "| True Positive | 80 | 85 |\n",
    "| False Positive | 471 | 526 |\n",
    "| False Negative | 275 | 270 |\n",
    "| Precision | 0.1452 | 0.1391 |\n",
    "| Recall | 0.2254 | 0.2394 |\n",
    "| F1-Score | 0.1766 | 0.1760 |\n"
   ]
  },
  {
   "attachments": {},
   "cell_type": "markdown",
   "metadata": {},
   "source": [
    "#### SAMM Long Videos\n"
   ]
  },
  {
   "attachments": {},
   "cell_type": "markdown",
   "metadata": {},
   "source": [
    "| Parameters | Value | Value | Value |\n",
    "| --- | --- | --- | --- |\n",
    "| MaE model | Swin-T | SL-Swin-T | SL-Swin-T |\n",
    "| ME model | Swin-T | SL-Swin-T | SL-Swin-T_2 |\n",
    "| epochs | 25 | 25 | 25 |\n",
    "| batch_size | 48 | 48 | 48 |\n",
    "| p | 0.57 | 0.59 | 0.60 |\n",
    "| True Positive | 97 | 80 | 85 |\n",
    "| False Positive | 767 | 649 | 678 |\n",
    "| False Negative | 393 | 410 | 405 |\n",
    "| Precision | 0.1123 | 0.1097 | 0.1114 |\n",
    "| Recall | 0.1980 | 0.1633 | 0.1735 |\n",
    "| F1-Score | 0.1433 | 0.1313 | 0.1357 |\n"
   ]
  },
  {
   "attachments": {},
   "cell_type": "markdown",
   "metadata": {},
   "source": [
    "### Overall\n"
   ]
  },
  {
   "cell_type": "code",
   "execution_count": 31,
   "metadata": {},
   "outputs": [
    {
     "name": "stdout",
     "output_type": "stream",
     "text": [
      " p | TP | FP | FN | Precision | Recall | F1-Score\n",
      "0.01 | 203 | 7854 | 152 | 0.0252 | 0.5718 | 0.0483 |\n",
      "0.02 | 201 | 7335 | 154 | 0.0267 | 0.5662 | 0.0509 |\n",
      "0.03 | 201 | 6913 | 154 | 0.0283 | 0.5662 | 0.0538 |\n",
      "0.04 | 200 | 6454 | 155 | 0.0301 | 0.5634 | 0.0571 |\n",
      "0.05 | 199 | 6102 | 156 | 0.0316 | 0.5606 | 0.0598 |\n",
      "0.06 | 195 | 5748 | 160 | 0.0328 | 0.5493 | 0.0619 |\n",
      "0.07 | 194 | 5418 | 161 | 0.0346 | 0.5465 | 0.0650 |\n",
      "0.08 | 189 | 5086 | 166 | 0.0358 | 0.5324 | 0.0671 |\n",
      "0.09 | 185 | 4814 | 170 | 0.0370 | 0.5211 | 0.0691 |\n",
      "0.10 | 183 | 4555 | 172 | 0.0386 | 0.5155 | 0.0719 |\n",
      "0.11 | 182 | 4289 | 173 | 0.0407 | 0.5127 | 0.0754 |\n",
      "0.12 | 180 | 4058 | 175 | 0.0425 | 0.5070 | 0.0784 |\n",
      "0.13 | 175 | 3853 | 180 | 0.0434 | 0.4930 | 0.0799 |\n",
      "0.14 | 175 | 3646 | 180 | 0.0458 | 0.4930 | 0.0838 |\n",
      "0.15 | 174 | 3449 | 181 | 0.0480 | 0.4901 | 0.0875 |\n",
      "0.16 | 172 | 3262 | 183 | 0.0501 | 0.4845 | 0.0908 |\n",
      "0.17 | 169 | 3088 | 186 | 0.0519 | 0.4761 | 0.0936 |\n",
      "0.18 | 169 | 2921 | 186 | 0.0547 | 0.4761 | 0.0981 |\n",
      "0.19 | 167 | 2761 | 188 | 0.0570 | 0.4704 | 0.1017 |\n",
      "0.20 | 167 | 2638 | 188 | 0.0595 | 0.4704 | 0.1057 |\n",
      "0.21 | 165 | 2515 | 190 | 0.0616 | 0.4648 | 0.1087 |\n",
      "0.22 | 161 | 2404 | 194 | 0.0628 | 0.4535 | 0.1103 |\n",
      "0.23 | 158 | 2277 | 197 | 0.0649 | 0.4451 | 0.1133 |\n",
      "0.24 | 156 | 2164 | 199 | 0.0672 | 0.4394 | 0.1166 |\n",
      "0.25 | 154 | 2078 | 201 | 0.0690 | 0.4338 | 0.1191 |\n",
      "0.26 | 151 | 1985 | 204 | 0.0707 | 0.4254 | 0.1212 |\n",
      "0.27 | 147 | 1906 | 208 | 0.0716 | 0.4141 | 0.1221 |\n",
      "0.28 | 144 | 1841 | 211 | 0.0725 | 0.4056 | 0.1231 |\n",
      "0.29 | 142 | 1773 | 213 | 0.0742 | 0.4000 | 0.1251 |\n",
      "0.30 | 141 | 1694 | 214 | 0.0768 | 0.3972 | 0.1288 |\n",
      "0.31 | 139 | 1629 | 216 | 0.0786 | 0.3915 | 0.1309 |\n",
      "0.32 | 138 | 1552 | 217 | 0.0817 | 0.3887 | 0.1350 |\n",
      "0.33 | 137 | 1487 | 218 | 0.0844 | 0.3859 | 0.1385 |\n",
      "0.34 | 134 | 1428 | 221 | 0.0858 | 0.3775 | 0.1398 |\n",
      "0.35 | 130 | 1366 | 225 | 0.0869 | 0.3662 | 0.1405 |\n",
      "0.36 | 129 | 1319 | 226 | 0.0891 | 0.3634 | 0.1431 |\n",
      "0.37 | 127 | 1248 | 228 | 0.0924 | 0.3577 | 0.1468 |\n",
      "0.38 | 126 | 1202 | 229 | 0.0949 | 0.3549 | 0.1497 |\n",
      "0.39 | 125 | 1148 | 230 | 0.0982 | 0.3521 | 0.1536 |\n",
      "0.40 | 122 | 1097 | 233 | 0.1001 | 0.3437 | 0.1550 |\n",
      "0.41 | 119 | 1051 | 236 | 0.1017 | 0.3352 | 0.1561 |\n",
      "0.42 | 119 | 999 | 236 | 0.1064 | 0.3352 | 0.1616 |\n",
      "0.43 | 115 | 953 | 240 | 0.1077 | 0.3239 | 0.1616 |\n",
      "0.44 | 115 | 914 | 240 | 0.1118 | 0.3239 | 0.1662 |\n",
      "0.45 | 111 | 875 | 244 | 0.1126 | 0.3127 | 0.1655 |\n",
      "0.46 | 107 | 837 | 248 | 0.1133 | 0.3014 | 0.1647 |\n",
      "0.47 | 105 | 795 | 250 | 0.1167 | 0.2958 | 0.1673 |\n",
      "0.48 | 102 | 750 | 253 | 0.1197 | 0.2873 | 0.1690 |\n",
      "0.49 | 99 | 727 | 256 | 0.1199 | 0.2789 | 0.1677 |\n",
      "0.50 | 98 | 697 | 257 | 0.1233 | 0.2761 | 0.1704 |\n",
      "0.51 | 98 | 678 | 257 | 0.1263 | 0.2761 | 0.1733 |\n",
      "0.52 | 96 | 648 | 259 | 0.1290 | 0.2704 | 0.1747 |\n",
      "0.53 | 94 | 617 | 261 | 0.1322 | 0.2648 | 0.1764 |\n",
      "0.54 | 93 | 591 | 262 | 0.1360 | 0.2620 | 0.1790 |\n",
      "0.55 | 91 | 568 | 264 | 0.1381 | 0.2563 | 0.1795 |\n",
      "0.56 | 90 | 548 | 265 | 0.1411 | 0.2535 | 0.1813 |\n",
      "0.57 | 88 | 524 | 267 | 0.1438 | 0.2479 | 0.1820 |\n",
      "0.58 | 87 | 502 | 268 | 0.1477 | 0.2451 | 0.1843 |\n",
      "0.59 | 83 | 477 | 272 | 0.1482 | 0.2338 | 0.1814 |\n",
      "0.60 | 82 | 462 | 273 | 0.1507 | 0.2310 | 0.1824 |\n",
      "0.61 | 75 | 446 | 280 | 0.1440 | 0.2113 | 0.1712 |\n",
      "0.62 | 72 | 429 | 283 | 0.1437 | 0.2028 | 0.1682 |\n",
      "0.63 | 67 | 414 | 288 | 0.1393 | 0.1887 | 0.1603 |\n",
      "0.64 | 66 | 395 | 289 | 0.1432 | 0.1859 | 0.1618 |\n",
      "0.65 | 65 | 384 | 290 | 0.1448 | 0.1831 | 0.1617 |\n",
      "0.66 | 62 | 365 | 293 | 0.1452 | 0.1746 | 0.1586 |\n",
      "0.67 | 61 | 350 | 294 | 0.1484 | 0.1718 | 0.1593 |\n",
      "0.68 | 61 | 330 | 294 | 0.1560 | 0.1718 | 0.1635 |\n",
      "0.69 | 59 | 314 | 296 | 0.1582 | 0.1662 | 0.1621 |\n",
      "0.70 | 56 | 306 | 299 | 0.1547 | 0.1577 | 0.1562 |\n",
      "0.71 | 54 | 296 | 301 | 0.1543 | 0.1521 | 0.1532 |\n",
      "0.72 | 54 | 278 | 301 | 0.1627 | 0.1521 | 0.1572 |\n",
      "0.73 | 53 | 268 | 302 | 0.1651 | 0.1493 | 0.1568 |\n",
      "0.74 | 52 | 257 | 303 | 0.1683 | 0.1465 | 0.1566 |\n",
      "0.75 | 51 | 249 | 304 | 0.1700 | 0.1437 | 0.1557 |\n",
      "0.76 | 48 | 239 | 307 | 0.1672 | 0.1352 | 0.1495 |\n",
      "0.77 | 47 | 230 | 308 | 0.1697 | 0.1324 | 0.1487 |\n",
      "0.78 | 46 | 223 | 309 | 0.1710 | 0.1296 | 0.1474 |\n",
      "0.79 | 46 | 217 | 309 | 0.1749 | 0.1296 | 0.1489 |\n",
      "0.80 | 46 | 210 | 309 | 0.1797 | 0.1296 | 0.1506 |\n",
      "0.81 | 46 | 203 | 309 | 0.1847 | 0.1296 | 0.1523 |\n",
      "0.82 | 44 | 198 | 311 | 0.1818 | 0.1239 | 0.1474 |\n",
      "0.83 | 42 | 190 | 313 | 0.1810 | 0.1183 | 0.1431 |\n",
      "0.84 | 41 | 185 | 314 | 0.1814 | 0.1155 | 0.1411 |\n",
      "0.85 | 38 | 179 | 317 | 0.1751 | 0.1070 | 0.1329 |\n",
      "0.86 | 38 | 170 | 317 | 0.1827 | 0.1070 | 0.1350 |\n",
      "0.87 | 38 | 164 | 317 | 0.1881 | 0.1070 | 0.1364 |\n",
      "0.88 | 38 | 156 | 317 | 0.1959 | 0.1070 | 0.1384 |\n",
      "0.89 | 37 | 146 | 318 | 0.2022 | 0.1042 | 0.1375 |\n",
      "0.90 | 36 | 141 | 319 | 0.2034 | 0.1014 | 0.1353 |\n",
      "0.91 | 34 | 134 | 321 | 0.2024 | 0.0958 | 0.1300 |\n",
      "0.92 | 32 | 131 | 323 | 0.1963 | 0.0901 | 0.1236 |\n",
      "0.93 | 32 | 129 | 323 | 0.1988 | 0.0901 | 0.1240 |\n",
      "0.94 | 30 | 125 | 325 | 0.1935 | 0.0845 | 0.1176 |\n",
      "0.95 | 29 | 117 | 326 | 0.1986 | 0.0817 | 0.1158 |\n",
      "0.96 | 28 | 111 | 327 | 0.2014 | 0.0789 | 0.1134 |\n",
      "0.97 | 27 | 107 | 328 | 0.2015 | 0.0761 | 0.1104 |\n",
      "0.98 | 25 | 104 | 330 | 0.1938 | 0.0704 | 0.1033 |\n",
      "0.99 | 25 | 103 | 330 | 0.1953 | 0.0704 | 0.1035 |\n"
     ]
    }
   ],
   "source": [
    "print(\" p | TP | FP | FN | Precision | Recall | F1-Score\")\n",
    "for p_index, p in enumerate(mae_ablation_dict[\"p\"]):\n",
    "    true_positive = (\n",
    "        mae_ablation_dict[\"true_positive\"][p_index]\n",
    "        + me_ablation_dict[\"true_positive\"][p_index]\n",
    "    )\n",
    "    false_positive = (\n",
    "        mae_ablation_dict[\"false_positive\"][p_index]\n",
    "        + me_ablation_dict[\"false_positive\"][p_index]\n",
    "    )\n",
    "    false_negative = (\n",
    "        mae_ablation_dict[\"expression_count\"][p_index]\n",
    "        + me_ablation_dict[\"expression_count\"][p_index]\n",
    "        - true_positive\n",
    "    )\n",
    "\n",
    "    precision = true_positive / (true_positive + false_positive) + epsilon\n",
    "    recall = true_positive / (true_positive + false_negative) + epsilon\n",
    "    F1_score = (2 * precision * recall) / (precision + recall) + epsilon\n",
    "\n",
    "    print(\n",
    "        \"{:.2f} | {:.0f} | {:.0f} | {:.0f} | {:.4f} | {:.4f} | {:.4f} |\".format(\n",
    "            p,\n",
    "            true_positive,\n",
    "            false_positive,\n",
    "            false_negative,\n",
    "            precision,\n",
    "            recall,\n",
    "            F1_score,\n",
    "        )\n",
    "    )"
   ]
  },
  {
   "attachments": {},
   "cell_type": "markdown",
   "metadata": {},
   "source": [
    "### MaE\n"
   ]
  },
  {
   "cell_type": "code",
   "execution_count": 32,
   "metadata": {},
   "outputs": [
    {
     "name": "stdout",
     "output_type": "stream",
     "text": [
      " p | TP | FP | FN | Precision | Recall | F1-Score\n",
      "0.01 | 159 | 3149 | 139 | 0.0481 | 0.5336 | 0.0882 |\n",
      "0.02 | 157 | 2853 | 141 | 0.0522 | 0.5268 | 0.0949 |\n",
      "0.03 | 157 | 2626 | 141 | 0.0564 | 0.5268 | 0.1019 |\n",
      "0.04 | 156 | 2383 | 142 | 0.0614 | 0.5235 | 0.1100 |\n",
      "0.05 | 155 | 2213 | 143 | 0.0655 | 0.5201 | 0.1163 |\n",
      "0.06 | 154 | 2051 | 144 | 0.0698 | 0.5168 | 0.1231 |\n",
      "0.07 | 153 | 1905 | 145 | 0.0743 | 0.5134 | 0.1299 |\n",
      "0.08 | 150 | 1766 | 148 | 0.0783 | 0.5034 | 0.1355 |\n",
      "0.09 | 147 | 1667 | 151 | 0.0810 | 0.4933 | 0.1392 |\n",
      "0.10 | 146 | 1585 | 152 | 0.0843 | 0.4899 | 0.1439 |\n",
      "0.11 | 145 | 1496 | 153 | 0.0884 | 0.4866 | 0.1496 |\n",
      "0.12 | 144 | 1426 | 154 | 0.0917 | 0.4832 | 0.1542 |\n",
      "0.13 | 141 | 1348 | 157 | 0.0947 | 0.4732 | 0.1578 |\n",
      "0.14 | 141 | 1276 | 157 | 0.0995 | 0.4732 | 0.1644 |\n",
      "0.15 | 140 | 1219 | 158 | 0.1030 | 0.4698 | 0.1690 |\n",
      "0.16 | 139 | 1153 | 159 | 0.1076 | 0.4664 | 0.1748 |\n",
      "0.17 | 137 | 1101 | 161 | 0.1107 | 0.4597 | 0.1784 |\n",
      "0.18 | 137 | 1048 | 161 | 0.1156 | 0.4597 | 0.1848 |\n",
      "0.19 | 137 | 998 | 161 | 0.1207 | 0.4597 | 0.1912 |\n",
      "0.20 | 137 | 964 | 161 | 0.1244 | 0.4597 | 0.1959 |\n",
      "0.21 | 136 | 929 | 162 | 0.1277 | 0.4564 | 0.1996 |\n",
      "0.22 | 132 | 888 | 166 | 0.1294 | 0.4430 | 0.2003 |\n",
      "0.23 | 131 | 846 | 167 | 0.1341 | 0.4396 | 0.2055 |\n",
      "0.24 | 129 | 813 | 169 | 0.1369 | 0.4329 | 0.2081 |\n",
      "0.25 | 127 | 787 | 171 | 0.1389 | 0.4262 | 0.2096 |\n",
      "0.26 | 126 | 756 | 172 | 0.1429 | 0.4228 | 0.2136 |\n",
      "0.27 | 123 | 738 | 175 | 0.1429 | 0.4128 | 0.2123 |\n",
      "0.28 | 121 | 714 | 177 | 0.1449 | 0.4060 | 0.2136 |\n",
      "0.29 | 119 | 701 | 179 | 0.1451 | 0.3993 | 0.2129 |\n",
      "0.30 | 118 | 676 | 180 | 0.1486 | 0.3960 | 0.2161 |\n",
      "0.31 | 117 | 657 | 181 | 0.1512 | 0.3926 | 0.2183 |\n",
      "0.32 | 117 | 633 | 181 | 0.1560 | 0.3926 | 0.2233 |\n",
      "0.33 | 116 | 609 | 182 | 0.1600 | 0.3893 | 0.2268 |\n",
      "0.34 | 115 | 592 | 183 | 0.1627 | 0.3859 | 0.2289 |\n",
      "0.35 | 111 | 576 | 187 | 0.1616 | 0.3725 | 0.2254 |\n",
      "0.36 | 110 | 565 | 188 | 0.1630 | 0.3691 | 0.2261 |\n",
      "0.37 | 108 | 543 | 190 | 0.1659 | 0.3624 | 0.2276 |\n",
      "0.38 | 108 | 524 | 190 | 0.1709 | 0.3624 | 0.2323 |\n",
      "0.39 | 107 | 505 | 191 | 0.1748 | 0.3591 | 0.2352 |\n",
      "0.40 | 104 | 492 | 194 | 0.1745 | 0.3490 | 0.2327 |\n",
      "0.41 | 102 | 482 | 196 | 0.1747 | 0.3423 | 0.2313 |\n",
      "0.42 | 102 | 465 | 196 | 0.1799 | 0.3423 | 0.2358 |\n",
      "0.43 | 99 | 448 | 199 | 0.1810 | 0.3322 | 0.2343 |\n",
      "0.44 | 99 | 436 | 199 | 0.1850 | 0.3322 | 0.2377 |\n",
      "0.45 | 96 | 417 | 202 | 0.1871 | 0.3221 | 0.2367 |\n",
      "0.46 | 92 | 401 | 206 | 0.1866 | 0.3087 | 0.2326 |\n",
      "0.47 | 90 | 381 | 208 | 0.1911 | 0.3020 | 0.2341 |\n",
      "0.48 | 87 | 369 | 211 | 0.1908 | 0.2919 | 0.2308 |\n",
      "0.49 | 84 | 363 | 214 | 0.1879 | 0.2819 | 0.2255 |\n",
      "0.50 | 83 | 349 | 215 | 0.1921 | 0.2785 | 0.2274 |\n",
      "0.51 | 83 | 343 | 215 | 0.1948 | 0.2785 | 0.2293 |\n",
      "0.52 | 81 | 330 | 217 | 0.1971 | 0.2718 | 0.2285 |\n",
      "0.53 | 79 | 323 | 219 | 0.1965 | 0.2651 | 0.2257 |\n",
      "0.54 | 78 | 309 | 220 | 0.2016 | 0.2617 | 0.2277 |\n",
      "0.55 | 76 | 299 | 222 | 0.2027 | 0.2550 | 0.2259 |\n",
      "0.56 | 75 | 292 | 223 | 0.2044 | 0.2517 | 0.2256 |\n",
      "0.57 | 74 | 283 | 224 | 0.2073 | 0.2483 | 0.2260 |\n",
      "0.58 | 73 | 273 | 225 | 0.2110 | 0.2450 | 0.2267 |\n",
      "0.59 | 71 | 263 | 227 | 0.2126 | 0.2383 | 0.2247 |\n",
      "0.60 | 70 | 258 | 228 | 0.2134 | 0.2349 | 0.2236 |\n",
      "0.61 | 64 | 250 | 234 | 0.2038 | 0.2148 | 0.2092 |\n",
      "0.62 | 61 | 243 | 237 | 0.2007 | 0.2047 | 0.2027 |\n",
      "0.63 | 57 | 236 | 241 | 0.1945 | 0.1913 | 0.1929 |\n",
      "0.64 | 56 | 226 | 242 | 0.1986 | 0.1879 | 0.1931 |\n",
      "0.65 | 55 | 223 | 243 | 0.1978 | 0.1846 | 0.1910 |\n",
      "0.66 | 52 | 212 | 246 | 0.1970 | 0.1745 | 0.1851 |\n",
      "0.67 | 51 | 205 | 247 | 0.1992 | 0.1711 | 0.1841 |\n",
      "0.68 | 51 | 195 | 247 | 0.2073 | 0.1711 | 0.1875 |\n",
      "0.69 | 49 | 188 | 249 | 0.2068 | 0.1644 | 0.1832 |\n",
      "0.70 | 46 | 184 | 252 | 0.2000 | 0.1544 | 0.1742 |\n",
      "0.71 | 44 | 178 | 254 | 0.1982 | 0.1477 | 0.1692 |\n",
      "0.72 | 44 | 168 | 254 | 0.2075 | 0.1477 | 0.1725 |\n",
      "0.73 | 43 | 165 | 255 | 0.2067 | 0.1443 | 0.1700 |\n",
      "0.74 | 43 | 159 | 255 | 0.2129 | 0.1443 | 0.1720 |\n",
      "0.75 | 42 | 157 | 256 | 0.2111 | 0.1409 | 0.1690 |\n",
      "0.76 | 39 | 150 | 259 | 0.2063 | 0.1309 | 0.1602 |\n",
      "0.77 | 38 | 146 | 260 | 0.2065 | 0.1275 | 0.1577 |\n",
      "0.78 | 38 | 142 | 260 | 0.2111 | 0.1275 | 0.1590 |\n",
      "0.79 | 38 | 139 | 260 | 0.2147 | 0.1275 | 0.1600 |\n",
      "0.80 | 38 | 136 | 260 | 0.2184 | 0.1275 | 0.1610 |\n",
      "0.81 | 38 | 133 | 260 | 0.2222 | 0.1275 | 0.1620 |\n",
      "0.82 | 36 | 130 | 262 | 0.2169 | 0.1208 | 0.1552 |\n",
      "0.83 | 34 | 125 | 264 | 0.2138 | 0.1141 | 0.1488 |\n",
      "0.84 | 33 | 123 | 265 | 0.2115 | 0.1107 | 0.1454 |\n",
      "0.85 | 30 | 120 | 268 | 0.2000 | 0.1007 | 0.1339 |\n",
      "0.86 | 30 | 114 | 268 | 0.2083 | 0.1007 | 0.1357 |\n",
      "0.87 | 30 | 110 | 268 | 0.2143 | 0.1007 | 0.1370 |\n",
      "0.88 | 30 | 106 | 268 | 0.2206 | 0.1007 | 0.1382 |\n",
      "0.89 | 29 | 98 | 269 | 0.2283 | 0.0973 | 0.1365 |\n",
      "0.90 | 29 | 95 | 269 | 0.2339 | 0.0973 | 0.1374 |\n",
      "0.91 | 27 | 89 | 271 | 0.2328 | 0.0906 | 0.1304 |\n",
      "0.92 | 26 | 87 | 272 | 0.2301 | 0.0872 | 0.1265 |\n",
      "0.93 | 26 | 86 | 272 | 0.2321 | 0.0872 | 0.1268 |\n",
      "0.94 | 24 | 84 | 274 | 0.2222 | 0.0805 | 0.1182 |\n",
      "0.95 | 24 | 80 | 274 | 0.2308 | 0.0805 | 0.1194 |\n",
      "0.96 | 23 | 76 | 275 | 0.2323 | 0.0772 | 0.1159 |\n",
      "0.97 | 23 | 73 | 275 | 0.2396 | 0.0772 | 0.1168 |\n",
      "0.98 | 21 | 70 | 277 | 0.2308 | 0.0705 | 0.1080 |\n",
      "0.99 | 21 | 69 | 277 | 0.2333 | 0.0705 | 0.1082 |\n"
     ]
    }
   ],
   "source": [
    "print(\" p | TP | FP | FN | Precision | Recall | F1-Score\")\n",
    "for p_index, p in enumerate(mae_ablation_dict[\"p\"]):\n",
    "    true_positive = mae_ablation_dict[\"true_positive\"][p_index]\n",
    "    false_positive = mae_ablation_dict[\"false_positive\"][p_index]\n",
    "    false_negative = mae_ablation_dict[\"expression_count\"][p_index] - true_positive\n",
    "\n",
    "    precision = true_positive / (true_positive + false_positive) + epsilon\n",
    "    recall = true_positive / (true_positive + false_negative) + epsilon\n",
    "    F1_score = (2 * precision * recall) / (precision + recall) + epsilon\n",
    "\n",
    "    print(\n",
    "        \"{:.2f} | {:.0f} | {:.0f} | {:.0f} | {:.4f} | {:.4f} | {:.4f} |\".format(\n",
    "            p,\n",
    "            true_positive,\n",
    "            false_positive,\n",
    "            false_negative,\n",
    "            precision,\n",
    "            recall,\n",
    "            F1_score,\n",
    "        )\n",
    "    )"
   ]
  },
  {
   "attachments": {},
   "cell_type": "markdown",
   "metadata": {},
   "source": [
    "### ME\n"
   ]
  },
  {
   "cell_type": "code",
   "execution_count": 33,
   "metadata": {},
   "outputs": [
    {
     "name": "stdout",
     "output_type": "stream",
     "text": [
      " p | TP | FP | FN | Precision | Recall | F1-Score\n",
      "0.01 | 44 | 4705 | 13 | 0.0093 | 0.7719 | 0.0183 |\n",
      "0.02 | 44 | 4482 | 13 | 0.0097 | 0.7719 | 0.0192 |\n",
      "0.03 | 44 | 4287 | 13 | 0.0102 | 0.7719 | 0.0201 |\n",
      "0.04 | 44 | 4071 | 13 | 0.0107 | 0.7719 | 0.0211 |\n",
      "0.05 | 44 | 3889 | 13 | 0.0112 | 0.7719 | 0.0221 |\n",
      "0.06 | 41 | 3697 | 16 | 0.0110 | 0.7193 | 0.0216 |\n",
      "0.07 | 41 | 3513 | 16 | 0.0115 | 0.7193 | 0.0227 |\n",
      "0.08 | 39 | 3320 | 18 | 0.0116 | 0.6842 | 0.0228 |\n",
      "0.09 | 38 | 3147 | 19 | 0.0119 | 0.6667 | 0.0234 |\n",
      "0.10 | 37 | 2970 | 20 | 0.0123 | 0.6491 | 0.0242 |\n",
      "0.11 | 37 | 2793 | 20 | 0.0131 | 0.6491 | 0.0256 |\n",
      "0.12 | 36 | 2632 | 21 | 0.0135 | 0.6316 | 0.0264 |\n",
      "0.13 | 34 | 2505 | 23 | 0.0134 | 0.5965 | 0.0262 |\n",
      "0.14 | 34 | 2370 | 23 | 0.0141 | 0.5965 | 0.0276 |\n",
      "0.15 | 34 | 2230 | 23 | 0.0150 | 0.5965 | 0.0293 |\n",
      "0.16 | 33 | 2109 | 24 | 0.0154 | 0.5789 | 0.0300 |\n",
      "0.17 | 32 | 1987 | 25 | 0.0158 | 0.5614 | 0.0308 |\n",
      "0.18 | 32 | 1873 | 25 | 0.0168 | 0.5614 | 0.0326 |\n",
      "0.19 | 30 | 1763 | 27 | 0.0167 | 0.5263 | 0.0324 |\n",
      "0.20 | 30 | 1674 | 27 | 0.0176 | 0.5263 | 0.0341 |\n",
      "0.21 | 29 | 1586 | 28 | 0.0180 | 0.5088 | 0.0347 |\n",
      "0.22 | 29 | 1516 | 28 | 0.0188 | 0.5088 | 0.0362 |\n",
      "0.23 | 27 | 1431 | 30 | 0.0185 | 0.4737 | 0.0356 |\n",
      "0.24 | 27 | 1351 | 30 | 0.0196 | 0.4737 | 0.0376 |\n",
      "0.25 | 27 | 1291 | 30 | 0.0205 | 0.4737 | 0.0393 |\n",
      "0.26 | 25 | 1229 | 32 | 0.0199 | 0.4386 | 0.0381 |\n",
      "0.27 | 24 | 1168 | 33 | 0.0201 | 0.4211 | 0.0384 |\n",
      "0.28 | 23 | 1127 | 34 | 0.0200 | 0.4035 | 0.0381 |\n",
      "0.29 | 23 | 1072 | 34 | 0.0210 | 0.4035 | 0.0399 |\n",
      "0.30 | 23 | 1018 | 34 | 0.0221 | 0.4035 | 0.0419 |\n",
      "0.31 | 22 | 972 | 35 | 0.0221 | 0.3860 | 0.0419 |\n",
      "0.32 | 21 | 919 | 36 | 0.0223 | 0.3684 | 0.0421 |\n",
      "0.33 | 21 | 878 | 36 | 0.0234 | 0.3684 | 0.0439 |\n",
      "0.34 | 19 | 836 | 38 | 0.0222 | 0.3333 | 0.0417 |\n",
      "0.35 | 19 | 790 | 38 | 0.0235 | 0.3333 | 0.0439 |\n",
      "0.36 | 19 | 754 | 38 | 0.0246 | 0.3333 | 0.0458 |\n",
      "0.37 | 19 | 705 | 38 | 0.0262 | 0.3333 | 0.0487 |\n",
      "0.38 | 18 | 678 | 39 | 0.0259 | 0.3158 | 0.0478 |\n",
      "0.39 | 18 | 643 | 39 | 0.0272 | 0.3158 | 0.0501 |\n",
      "0.40 | 18 | 605 | 39 | 0.0289 | 0.3158 | 0.0529 |\n",
      "0.41 | 17 | 569 | 40 | 0.0290 | 0.2982 | 0.0529 |\n",
      "0.42 | 17 | 534 | 40 | 0.0309 | 0.2982 | 0.0559 |\n",
      "0.43 | 16 | 505 | 41 | 0.0307 | 0.2807 | 0.0554 |\n",
      "0.44 | 16 | 478 | 41 | 0.0324 | 0.2807 | 0.0581 |\n",
      "0.45 | 15 | 458 | 42 | 0.0317 | 0.2632 | 0.0566 |\n",
      "0.46 | 15 | 436 | 42 | 0.0333 | 0.2632 | 0.0591 |\n",
      "0.47 | 15 | 414 | 42 | 0.0350 | 0.2632 | 0.0617 |\n",
      "0.48 | 15 | 381 | 42 | 0.0379 | 0.2632 | 0.0662 |\n",
      "0.49 | 15 | 364 | 42 | 0.0396 | 0.2632 | 0.0688 |\n",
      "0.50 | 15 | 348 | 42 | 0.0413 | 0.2632 | 0.0714 |\n",
      "0.51 | 15 | 335 | 42 | 0.0429 | 0.2632 | 0.0737 |\n",
      "0.52 | 15 | 318 | 42 | 0.0450 | 0.2632 | 0.0769 |\n",
      "0.53 | 15 | 294 | 42 | 0.0485 | 0.2632 | 0.0820 |\n",
      "0.54 | 15 | 282 | 42 | 0.0505 | 0.2632 | 0.0847 |\n",
      "0.55 | 15 | 269 | 42 | 0.0528 | 0.2632 | 0.0880 |\n",
      "0.56 | 15 | 256 | 42 | 0.0554 | 0.2632 | 0.0915 |\n",
      "0.57 | 14 | 241 | 43 | 0.0549 | 0.2456 | 0.0897 |\n",
      "0.58 | 14 | 229 | 43 | 0.0576 | 0.2456 | 0.0933 |\n",
      "0.59 | 12 | 214 | 45 | 0.0531 | 0.2105 | 0.0848 |\n",
      "0.60 | 12 | 204 | 45 | 0.0556 | 0.2105 | 0.0879 |\n",
      "0.61 | 11 | 196 | 46 | 0.0531 | 0.1930 | 0.0833 |\n",
      "0.62 | 11 | 186 | 46 | 0.0558 | 0.1930 | 0.0866 |\n",
      "0.63 | 10 | 178 | 47 | 0.0532 | 0.1754 | 0.0816 |\n",
      "0.64 | 10 | 169 | 47 | 0.0559 | 0.1754 | 0.0847 |\n",
      "0.65 | 10 | 161 | 47 | 0.0585 | 0.1754 | 0.0877 |\n",
      "0.66 | 10 | 153 | 47 | 0.0613 | 0.1754 | 0.0909 |\n",
      "0.67 | 10 | 145 | 47 | 0.0645 | 0.1754 | 0.0943 |\n",
      "0.68 | 10 | 135 | 47 | 0.0690 | 0.1754 | 0.0990 |\n",
      "0.69 | 10 | 126 | 47 | 0.0735 | 0.1754 | 0.1036 |\n",
      "0.70 | 10 | 122 | 47 | 0.0758 | 0.1754 | 0.1058 |\n",
      "0.71 | 10 | 118 | 47 | 0.0781 | 0.1754 | 0.1081 |\n",
      "0.72 | 10 | 110 | 47 | 0.0833 | 0.1754 | 0.1130 |\n",
      "0.73 | 10 | 103 | 47 | 0.0885 | 0.1754 | 0.1176 |\n",
      "0.74 | 9 | 98 | 48 | 0.0841 | 0.1579 | 0.1098 |\n",
      "0.75 | 9 | 92 | 48 | 0.0891 | 0.1579 | 0.1139 |\n",
      "0.76 | 9 | 89 | 48 | 0.0918 | 0.1579 | 0.1161 |\n",
      "0.77 | 9 | 84 | 48 | 0.0968 | 0.1579 | 0.1200 |\n",
      "0.78 | 8 | 81 | 49 | 0.0899 | 0.1404 | 0.1096 |\n",
      "0.79 | 8 | 78 | 49 | 0.0930 | 0.1404 | 0.1119 |\n",
      "0.80 | 8 | 74 | 49 | 0.0976 | 0.1404 | 0.1151 |\n",
      "0.81 | 8 | 70 | 49 | 0.1026 | 0.1404 | 0.1185 |\n",
      "0.82 | 8 | 68 | 49 | 0.1053 | 0.1404 | 0.1203 |\n",
      "0.83 | 8 | 65 | 49 | 0.1096 | 0.1404 | 0.1231 |\n",
      "0.84 | 8 | 62 | 49 | 0.1143 | 0.1404 | 0.1260 |\n",
      "0.85 | 8 | 59 | 49 | 0.1194 | 0.1404 | 0.1290 |\n",
      "0.86 | 8 | 56 | 49 | 0.1250 | 0.1404 | 0.1322 |\n",
      "0.87 | 8 | 54 | 49 | 0.1290 | 0.1404 | 0.1345 |\n",
      "0.88 | 8 | 50 | 49 | 0.1379 | 0.1404 | 0.1391 |\n",
      "0.89 | 8 | 48 | 49 | 0.1429 | 0.1404 | 0.1416 |\n",
      "0.90 | 7 | 46 | 50 | 0.1321 | 0.1228 | 0.1273 |\n",
      "0.91 | 7 | 45 | 50 | 0.1346 | 0.1228 | 0.1284 |\n",
      "0.92 | 6 | 44 | 51 | 0.1200 | 0.1053 | 0.1121 |\n",
      "0.93 | 6 | 43 | 51 | 0.1224 | 0.1053 | 0.1132 |\n",
      "0.94 | 6 | 41 | 51 | 0.1277 | 0.1053 | 0.1154 |\n",
      "0.95 | 5 | 37 | 52 | 0.1190 | 0.0877 | 0.1010 |\n",
      "0.96 | 5 | 35 | 52 | 0.1250 | 0.0877 | 0.1031 |\n",
      "0.97 | 4 | 34 | 53 | 0.1053 | 0.0702 | 0.0842 |\n",
      "0.98 | 4 | 34 | 53 | 0.1053 | 0.0702 | 0.0842 |\n",
      "0.99 | 4 | 34 | 53 | 0.1053 | 0.0702 | 0.0842 |\n"
     ]
    }
   ],
   "source": [
    "print(\" p | TP | FP | FN | Precision | Recall | F1-Score\")\n",
    "for p_index, p in enumerate(mae_ablation_dict[\"p\"]):\n",
    "    true_positive = me_ablation_dict[\"true_positive\"][p_index]\n",
    "    false_positive = me_ablation_dict[\"false_positive\"][p_index]\n",
    "    false_negative = me_ablation_dict[\"expression_count\"][p_index] - true_positive\n",
    "\n",
    "    precision = true_positive / (true_positive + false_positive) + epsilon\n",
    "    recall = true_positive / (true_positive + false_negative) + epsilon\n",
    "    F1_score = (2 * precision * recall) / (precision + recall) + epsilon\n",
    "\n",
    "    print(\n",
    "        \"{:.2f} | {:.0f} | {:.0f} | {:.0f} | {:.4f} | {:.4f} | {:.4f} |\".format(\n",
    "            p,\n",
    "            true_positive,\n",
    "            false_positive,\n",
    "            false_negative,\n",
    "            precision,\n",
    "            recall,\n",
    "            F1_score,\n",
    "        )\n",
    "    )"
   ]
  }
 ],
 "metadata": {
  "kernelspec": {
   "display_name": "Python 3.9.13 64-bit",
   "language": "python",
   "name": "python3"
  },
  "language_info": {
   "codemirror_mode": {
    "name": "ipython",
    "version": 3
   },
   "file_extension": ".py",
   "mimetype": "text/x-python",
   "name": "python",
   "nbconvert_exporter": "python",
   "pygments_lexer": "ipython3",
   "version": "3.11.3"
  },
  "orig_nbformat": 4,
  "vscode": {
   "interpreter": {
    "hash": "6696e3028ae55fa5be357812587f73779dfb157cc851dab91c4ca8ffd3c7a806"
   }
  }
 },
 "nbformat": 4,
 "nbformat_minor": 2
}
